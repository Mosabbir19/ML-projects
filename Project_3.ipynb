{
  "nbformat": 4,
  "nbformat_minor": 0,
  "metadata": {
    "colab": {
      "name": "Project-3.ipynb",
      "provenance": [],
      "collapsed_sections": [],
      "authorship_tag": "ABX9TyPnXfQgPZmJB0AXM3X8ItG/",
      "include_colab_link": true
    },
    "kernelspec": {
      "name": "python3",
      "display_name": "Python 3"
    },
    "language_info": {
      "name": "python"
    }
  },
  "cells": [
    {
      "cell_type": "markdown",
      "metadata": {
        "id": "view-in-github",
        "colab_type": "text"
      },
      "source": [
        "<a href=\"https://colab.research.google.com/github/Mosabbir19/ML-projects/blob/main/Project_3.ipynb\" target=\"_parent\"><img src=\"https://colab.research.google.com/assets/colab-badge.svg\" alt=\"Open In Colab\"/></a>"
      ]
    },
    {
      "cell_type": "markdown",
      "source": [
        "**Course No:** ETE 456\n",
        "\n",
        "**Course Title:** Neural and Fuzzy Systems in Communications Sessional"
      ],
      "metadata": {
        "id": "QgBZRvLGTvD-"
      }
    },
    {
      "cell_type": "markdown",
      "source": [
        "**ID: 1608019**"
      ],
      "metadata": {
        "id": "bkhYkiAyTu7S"
      }
    },
    {
      "cell_type": "markdown",
      "source": [
        "**Experiment name:** A Neural Network based analysis to Classify Diabetes"
      ],
      "metadata": {
        "id": "lWTW6PtsclUV"
      }
    },
    {
      "cell_type": "markdown",
      "source": [
        "**Objective**\n",
        "\n",
        "\n",
        "1.   To classify a real world problem using Neural Network.\n",
        "\n"
      ],
      "metadata": {
        "id": "r9oOB3uWcQo-"
      }
    },
    {
      "cell_type": "markdown",
      "source": [
        "**Description:**\n",
        "First data is read using pandas library and then null value is checked for each column. Feature and target value is taken from dataset and splitted it into train and test set. Data is normalized using StandardScalar for large scale values. After that, a neural network model is built using keras library. Then model is compiled with binary crossentropy loss, adam optimizer and accuray metric. Now, model is trained using train dataset and checked the performance of the model. Using matplolib library, loss and accuracy curve is plotted for tarin and validation set."
      ],
      "metadata": {
        "id": "ftbmlQ2kdSIX"
      }
    },
    {
      "cell_type": "code",
      "execution_count": null,
      "metadata": {
        "id": "rBgZHTd56HuJ"
      },
      "outputs": [],
      "source": [
        "import warnings\n",
        "warnings.filterwarnings(\"ignore\")"
      ]
    },
    {
      "cell_type": "code",
      "source": [
        "import numpy as np        \n",
        "import pandas as pd     \n",
        "import matplotlib.pyplot as plt\n",
        "from sklearn.model_selection import train_test_split\n",
        "from sklearn.preprocessing import StandardScaler"
      ],
      "metadata": {
        "id": "Y89Uil6I6N2j"
      },
      "execution_count": null,
      "outputs": []
    },
    {
      "cell_type": "code",
      "source": [
        "!wget -O diabetes.csv  https://www.dropbox.com/s/sglreynnyx40pb6/diabetes.csv?dl=0"
      ],
      "metadata": {
        "colab": {
          "base_uri": "https://localhost:8080/"
        },
        "id": "yVMnegt-6N8U",
        "outputId": "61cb46cd-e2e2-4fed-afd0-0ab3b9af489e"
      },
      "execution_count": null,
      "outputs": [
        {
          "output_type": "stream",
          "name": "stdout",
          "text": [
            "--2021-12-20 19:00:22--  https://www.dropbox.com/s/sglreynnyx40pb6/diabetes.csv?dl=0\n",
            "Resolving www.dropbox.com (www.dropbox.com)... 162.125.5.18, 2620:100:601b:18::a27d:812\n",
            "Connecting to www.dropbox.com (www.dropbox.com)|162.125.5.18|:443... connected.\n",
            "HTTP request sent, awaiting response... 301 Moved Permanently\n",
            "Location: /s/raw/sglreynnyx40pb6/diabetes.csv [following]\n",
            "--2021-12-20 19:00:22--  https://www.dropbox.com/s/raw/sglreynnyx40pb6/diabetes.csv\n",
            "Reusing existing connection to www.dropbox.com:443.\n",
            "HTTP request sent, awaiting response... 302 Found\n",
            "Location: https://ucc36a8ee4bf2b97c5512eaa86d5.dl.dropboxusercontent.com/cd/0/inline/BcPRdTyK7MuuOrPpMKbrr7fZbyn3fnqvPlQ-gMll_PL7UI1AbClrDgfJXFd83Co58Y6K0a3waSpjLMsX9_ab9VOS_eNCKoKuEctBKo1aYhAKSwa9KUptBguoT6Uex9FHi6efu4UrrHH7LInNt4rlSEZS/file# [following]\n",
            "--2021-12-20 19:00:22--  https://ucc36a8ee4bf2b97c5512eaa86d5.dl.dropboxusercontent.com/cd/0/inline/BcPRdTyK7MuuOrPpMKbrr7fZbyn3fnqvPlQ-gMll_PL7UI1AbClrDgfJXFd83Co58Y6K0a3waSpjLMsX9_ab9VOS_eNCKoKuEctBKo1aYhAKSwa9KUptBguoT6Uex9FHi6efu4UrrHH7LInNt4rlSEZS/file\n",
            "Resolving ucc36a8ee4bf2b97c5512eaa86d5.dl.dropboxusercontent.com (ucc36a8ee4bf2b97c5512eaa86d5.dl.dropboxusercontent.com)... 162.125.5.15, 2620:100:601d:15::a27d:50f\n",
            "Connecting to ucc36a8ee4bf2b97c5512eaa86d5.dl.dropboxusercontent.com (ucc36a8ee4bf2b97c5512eaa86d5.dl.dropboxusercontent.com)|162.125.5.15|:443... connected.\n",
            "HTTP request sent, awaiting response... 200 OK\n",
            "Length: 23873 (23K) [text/plain]\n",
            "Saving to: ‘diabetes.csv’\n",
            "\n",
            "diabetes.csv        100%[===================>]  23.31K  --.-KB/s    in 0.01s   \n",
            "\n",
            "2021-12-20 19:00:23 (1.60 MB/s) - ‘diabetes.csv’ saved [23873/23873]\n",
            "\n"
          ]
        }
      ]
    },
    {
      "cell_type": "code",
      "source": [
        "dataset = pd.read_csv('diabetes.csv')\n",
        "dataset"
      ],
      "metadata": {
        "colab": {
          "base_uri": "https://localhost:8080/",
          "height": 424
        },
        "id": "PKkK_X6r6N92",
        "outputId": "99a427b1-ecb4-4b6e-f3fd-70de87c39f10"
      },
      "execution_count": null,
      "outputs": [
        {
          "output_type": "execute_result",
          "data": {
            "text/html": [
              "\n",
              "  <div id=\"df-a8aa8807-e94f-4325-9dd2-d5553e920865\">\n",
              "    <div class=\"colab-df-container\">\n",
              "      <div>\n",
              "<style scoped>\n",
              "    .dataframe tbody tr th:only-of-type {\n",
              "        vertical-align: middle;\n",
              "    }\n",
              "\n",
              "    .dataframe tbody tr th {\n",
              "        vertical-align: top;\n",
              "    }\n",
              "\n",
              "    .dataframe thead th {\n",
              "        text-align: right;\n",
              "    }\n",
              "</style>\n",
              "<table border=\"1\" class=\"dataframe\">\n",
              "  <thead>\n",
              "    <tr style=\"text-align: right;\">\n",
              "      <th></th>\n",
              "      <th>Pregnancies</th>\n",
              "      <th>Glucose</th>\n",
              "      <th>BloodPressure</th>\n",
              "      <th>SkinThickness</th>\n",
              "      <th>Insulin</th>\n",
              "      <th>BMI</th>\n",
              "      <th>DiabetesPedigreeFunction</th>\n",
              "      <th>Age</th>\n",
              "      <th>Outcome</th>\n",
              "    </tr>\n",
              "  </thead>\n",
              "  <tbody>\n",
              "    <tr>\n",
              "      <th>0</th>\n",
              "      <td>6</td>\n",
              "      <td>148</td>\n",
              "      <td>72</td>\n",
              "      <td>35</td>\n",
              "      <td>0</td>\n",
              "      <td>33.6</td>\n",
              "      <td>0.627</td>\n",
              "      <td>50</td>\n",
              "      <td>1</td>\n",
              "    </tr>\n",
              "    <tr>\n",
              "      <th>1</th>\n",
              "      <td>1</td>\n",
              "      <td>85</td>\n",
              "      <td>66</td>\n",
              "      <td>29</td>\n",
              "      <td>0</td>\n",
              "      <td>26.6</td>\n",
              "      <td>0.351</td>\n",
              "      <td>31</td>\n",
              "      <td>0</td>\n",
              "    </tr>\n",
              "    <tr>\n",
              "      <th>2</th>\n",
              "      <td>8</td>\n",
              "      <td>183</td>\n",
              "      <td>64</td>\n",
              "      <td>0</td>\n",
              "      <td>0</td>\n",
              "      <td>23.3</td>\n",
              "      <td>0.672</td>\n",
              "      <td>32</td>\n",
              "      <td>1</td>\n",
              "    </tr>\n",
              "    <tr>\n",
              "      <th>3</th>\n",
              "      <td>1</td>\n",
              "      <td>89</td>\n",
              "      <td>66</td>\n",
              "      <td>23</td>\n",
              "      <td>94</td>\n",
              "      <td>28.1</td>\n",
              "      <td>0.167</td>\n",
              "      <td>21</td>\n",
              "      <td>0</td>\n",
              "    </tr>\n",
              "    <tr>\n",
              "      <th>4</th>\n",
              "      <td>0</td>\n",
              "      <td>137</td>\n",
              "      <td>40</td>\n",
              "      <td>35</td>\n",
              "      <td>168</td>\n",
              "      <td>43.1</td>\n",
              "      <td>2.288</td>\n",
              "      <td>33</td>\n",
              "      <td>1</td>\n",
              "    </tr>\n",
              "    <tr>\n",
              "      <th>...</th>\n",
              "      <td>...</td>\n",
              "      <td>...</td>\n",
              "      <td>...</td>\n",
              "      <td>...</td>\n",
              "      <td>...</td>\n",
              "      <td>...</td>\n",
              "      <td>...</td>\n",
              "      <td>...</td>\n",
              "      <td>...</td>\n",
              "    </tr>\n",
              "    <tr>\n",
              "      <th>763</th>\n",
              "      <td>10</td>\n",
              "      <td>101</td>\n",
              "      <td>76</td>\n",
              "      <td>48</td>\n",
              "      <td>180</td>\n",
              "      <td>32.9</td>\n",
              "      <td>0.171</td>\n",
              "      <td>63</td>\n",
              "      <td>0</td>\n",
              "    </tr>\n",
              "    <tr>\n",
              "      <th>764</th>\n",
              "      <td>2</td>\n",
              "      <td>122</td>\n",
              "      <td>70</td>\n",
              "      <td>27</td>\n",
              "      <td>0</td>\n",
              "      <td>36.8</td>\n",
              "      <td>0.340</td>\n",
              "      <td>27</td>\n",
              "      <td>0</td>\n",
              "    </tr>\n",
              "    <tr>\n",
              "      <th>765</th>\n",
              "      <td>5</td>\n",
              "      <td>121</td>\n",
              "      <td>72</td>\n",
              "      <td>23</td>\n",
              "      <td>112</td>\n",
              "      <td>26.2</td>\n",
              "      <td>0.245</td>\n",
              "      <td>30</td>\n",
              "      <td>0</td>\n",
              "    </tr>\n",
              "    <tr>\n",
              "      <th>766</th>\n",
              "      <td>1</td>\n",
              "      <td>126</td>\n",
              "      <td>60</td>\n",
              "      <td>0</td>\n",
              "      <td>0</td>\n",
              "      <td>30.1</td>\n",
              "      <td>0.349</td>\n",
              "      <td>47</td>\n",
              "      <td>1</td>\n",
              "    </tr>\n",
              "    <tr>\n",
              "      <th>767</th>\n",
              "      <td>1</td>\n",
              "      <td>93</td>\n",
              "      <td>70</td>\n",
              "      <td>31</td>\n",
              "      <td>0</td>\n",
              "      <td>30.4</td>\n",
              "      <td>0.315</td>\n",
              "      <td>23</td>\n",
              "      <td>0</td>\n",
              "    </tr>\n",
              "  </tbody>\n",
              "</table>\n",
              "<p>768 rows × 9 columns</p>\n",
              "</div>\n",
              "      <button class=\"colab-df-convert\" onclick=\"convertToInteractive('df-a8aa8807-e94f-4325-9dd2-d5553e920865')\"\n",
              "              title=\"Convert this dataframe to an interactive table.\"\n",
              "              style=\"display:none;\">\n",
              "        \n",
              "  <svg xmlns=\"http://www.w3.org/2000/svg\" height=\"24px\"viewBox=\"0 0 24 24\"\n",
              "       width=\"24px\">\n",
              "    <path d=\"M0 0h24v24H0V0z\" fill=\"none\"/>\n",
              "    <path d=\"M18.56 5.44l.94 2.06.94-2.06 2.06-.94-2.06-.94-.94-2.06-.94 2.06-2.06.94zm-11 1L8.5 8.5l.94-2.06 2.06-.94-2.06-.94L8.5 2.5l-.94 2.06-2.06.94zm10 10l.94 2.06.94-2.06 2.06-.94-2.06-.94-.94-2.06-.94 2.06-2.06.94z\"/><path d=\"M17.41 7.96l-1.37-1.37c-.4-.4-.92-.59-1.43-.59-.52 0-1.04.2-1.43.59L10.3 9.45l-7.72 7.72c-.78.78-.78 2.05 0 2.83L4 21.41c.39.39.9.59 1.41.59.51 0 1.02-.2 1.41-.59l7.78-7.78 2.81-2.81c.8-.78.8-2.07 0-2.86zM5.41 20L4 18.59l7.72-7.72 1.47 1.35L5.41 20z\"/>\n",
              "  </svg>\n",
              "      </button>\n",
              "      \n",
              "  <style>\n",
              "    .colab-df-container {\n",
              "      display:flex;\n",
              "      flex-wrap:wrap;\n",
              "      gap: 12px;\n",
              "    }\n",
              "\n",
              "    .colab-df-convert {\n",
              "      background-color: #E8F0FE;\n",
              "      border: none;\n",
              "      border-radius: 50%;\n",
              "      cursor: pointer;\n",
              "      display: none;\n",
              "      fill: #1967D2;\n",
              "      height: 32px;\n",
              "      padding: 0 0 0 0;\n",
              "      width: 32px;\n",
              "    }\n",
              "\n",
              "    .colab-df-convert:hover {\n",
              "      background-color: #E2EBFA;\n",
              "      box-shadow: 0px 1px 2px rgba(60, 64, 67, 0.3), 0px 1px 3px 1px rgba(60, 64, 67, 0.15);\n",
              "      fill: #174EA6;\n",
              "    }\n",
              "\n",
              "    [theme=dark] .colab-df-convert {\n",
              "      background-color: #3B4455;\n",
              "      fill: #D2E3FC;\n",
              "    }\n",
              "\n",
              "    [theme=dark] .colab-df-convert:hover {\n",
              "      background-color: #434B5C;\n",
              "      box-shadow: 0px 1px 3px 1px rgba(0, 0, 0, 0.15);\n",
              "      filter: drop-shadow(0px 1px 2px rgba(0, 0, 0, 0.3));\n",
              "      fill: #FFFFFF;\n",
              "    }\n",
              "  </style>\n",
              "\n",
              "      <script>\n",
              "        const buttonEl =\n",
              "          document.querySelector('#df-a8aa8807-e94f-4325-9dd2-d5553e920865 button.colab-df-convert');\n",
              "        buttonEl.style.display =\n",
              "          google.colab.kernel.accessAllowed ? 'block' : 'none';\n",
              "\n",
              "        async function convertToInteractive(key) {\n",
              "          const element = document.querySelector('#df-a8aa8807-e94f-4325-9dd2-d5553e920865');\n",
              "          const dataTable =\n",
              "            await google.colab.kernel.invokeFunction('convertToInteractive',\n",
              "                                                     [key], {});\n",
              "          if (!dataTable) return;\n",
              "\n",
              "          const docLinkHtml = 'Like what you see? Visit the ' +\n",
              "            '<a target=\"_blank\" href=https://colab.research.google.com/notebooks/data_table.ipynb>data table notebook</a>'\n",
              "            + ' to learn more about interactive tables.';\n",
              "          element.innerHTML = '';\n",
              "          dataTable['output_type'] = 'display_data';\n",
              "          await google.colab.output.renderOutput(dataTable, element);\n",
              "          const docLink = document.createElement('div');\n",
              "          docLink.innerHTML = docLinkHtml;\n",
              "          element.appendChild(docLink);\n",
              "        }\n",
              "      </script>\n",
              "    </div>\n",
              "  </div>\n",
              "  "
            ],
            "text/plain": [
              "     Pregnancies  Glucose  ...  Age  Outcome\n",
              "0              6      148  ...   50        1\n",
              "1              1       85  ...   31        0\n",
              "2              8      183  ...   32        1\n",
              "3              1       89  ...   21        0\n",
              "4              0      137  ...   33        1\n",
              "..           ...      ...  ...  ...      ...\n",
              "763           10      101  ...   63        0\n",
              "764            2      122  ...   27        0\n",
              "765            5      121  ...   30        0\n",
              "766            1      126  ...   47        1\n",
              "767            1       93  ...   23        0\n",
              "\n",
              "[768 rows x 9 columns]"
            ]
          },
          "metadata": {},
          "execution_count": 48
        }
      ]
    },
    {
      "cell_type": "code",
      "source": [
        "dataset.columns"
      ],
      "metadata": {
        "colab": {
          "base_uri": "https://localhost:8080/"
        },
        "id": "SzLmW1GV7K7T",
        "outputId": "6393319d-0b38-446f-8d49-af10d22e55f9"
      },
      "execution_count": null,
      "outputs": [
        {
          "output_type": "execute_result",
          "data": {
            "text/plain": [
              "Index(['Pregnancies', 'Glucose', 'BloodPressure', 'SkinThickness', 'Insulin',\n",
              "       'BMI', 'DiabetesPedigreeFunction', 'Age', 'Outcome'],\n",
              "      dtype='object')"
            ]
          },
          "metadata": {},
          "execution_count": 49
        }
      ]
    },
    {
      "cell_type": "code",
      "source": [
        "print(dataset[pd.isnull(dataset.Pregnancies)])\n",
        "print(dataset[pd.isnull(dataset.Glucose)])\n",
        "print(dataset[pd.isnull(dataset.BloodPressure)])\n",
        "print(dataset[pd.isnull(dataset.SkinThickness)])\n",
        "print(dataset[pd.isnull(dataset.Insulin)])\n",
        "print(dataset[pd.isnull(dataset.BMI)])\n",
        "print(dataset[pd.isnull(dataset.DiabetesPedigreeFunction)])\n",
        "print(dataset[pd.isnull(dataset.Age)])\n",
        "print(dataset[pd.isnull(dataset.Outcome)])"
      ],
      "metadata": {
        "colab": {
          "base_uri": "https://localhost:8080/"
        },
        "id": "4Vlv9Uk-6OEk",
        "outputId": "ae59c7e2-734f-44d1-ad52-8ae5a5a58f26"
      },
      "execution_count": null,
      "outputs": [
        {
          "output_type": "stream",
          "name": "stdout",
          "text": [
            "Empty DataFrame\n",
            "Columns: [Pregnancies, Glucose, BloodPressure, SkinThickness, Insulin, BMI, DiabetesPedigreeFunction, Age, Outcome]\n",
            "Index: []\n",
            "Empty DataFrame\n",
            "Columns: [Pregnancies, Glucose, BloodPressure, SkinThickness, Insulin, BMI, DiabetesPedigreeFunction, Age, Outcome]\n",
            "Index: []\n",
            "Empty DataFrame\n",
            "Columns: [Pregnancies, Glucose, BloodPressure, SkinThickness, Insulin, BMI, DiabetesPedigreeFunction, Age, Outcome]\n",
            "Index: []\n",
            "Empty DataFrame\n",
            "Columns: [Pregnancies, Glucose, BloodPressure, SkinThickness, Insulin, BMI, DiabetesPedigreeFunction, Age, Outcome]\n",
            "Index: []\n",
            "Empty DataFrame\n",
            "Columns: [Pregnancies, Glucose, BloodPressure, SkinThickness, Insulin, BMI, DiabetesPedigreeFunction, Age, Outcome]\n",
            "Index: []\n",
            "Empty DataFrame\n",
            "Columns: [Pregnancies, Glucose, BloodPressure, SkinThickness, Insulin, BMI, DiabetesPedigreeFunction, Age, Outcome]\n",
            "Index: []\n",
            "Empty DataFrame\n",
            "Columns: [Pregnancies, Glucose, BloodPressure, SkinThickness, Insulin, BMI, DiabetesPedigreeFunction, Age, Outcome]\n",
            "Index: []\n",
            "Empty DataFrame\n",
            "Columns: [Pregnancies, Glucose, BloodPressure, SkinThickness, Insulin, BMI, DiabetesPedigreeFunction, Age, Outcome]\n",
            "Index: []\n",
            "Empty DataFrame\n",
            "Columns: [Pregnancies, Glucose, BloodPressure, SkinThickness, Insulin, BMI, DiabetesPedigreeFunction, Age, Outcome]\n",
            "Index: []\n"
          ]
        }
      ]
    },
    {
      "cell_type": "code",
      "source": [
        "feature = dataset[['Pregnancies', 'Glucose', 'BloodPressure', 'SkinThickness', 'Insulin',\n",
        "       'BMI', 'DiabetesPedigreeFunction', 'Age']]\n",
        "target = dataset[['Outcome']] "
      ],
      "metadata": {
        "id": "YxvRk3Il6OIG"
      },
      "execution_count": null,
      "outputs": []
    },
    {
      "cell_type": "code",
      "source": [
        "feature"
      ],
      "metadata": {
        "colab": {
          "base_uri": "https://localhost:8080/",
          "height": 424
        },
        "id": "OULHwNTa6OJ7",
        "outputId": "26165e7b-c876-4365-dfcc-24f6162360d5"
      },
      "execution_count": null,
      "outputs": [
        {
          "output_type": "execute_result",
          "data": {
            "text/html": [
              "\n",
              "  <div id=\"df-0666032b-5d99-40d9-bd6b-f9a963315b10\">\n",
              "    <div class=\"colab-df-container\">\n",
              "      <div>\n",
              "<style scoped>\n",
              "    .dataframe tbody tr th:only-of-type {\n",
              "        vertical-align: middle;\n",
              "    }\n",
              "\n",
              "    .dataframe tbody tr th {\n",
              "        vertical-align: top;\n",
              "    }\n",
              "\n",
              "    .dataframe thead th {\n",
              "        text-align: right;\n",
              "    }\n",
              "</style>\n",
              "<table border=\"1\" class=\"dataframe\">\n",
              "  <thead>\n",
              "    <tr style=\"text-align: right;\">\n",
              "      <th></th>\n",
              "      <th>Pregnancies</th>\n",
              "      <th>Glucose</th>\n",
              "      <th>BloodPressure</th>\n",
              "      <th>SkinThickness</th>\n",
              "      <th>Insulin</th>\n",
              "      <th>BMI</th>\n",
              "      <th>DiabetesPedigreeFunction</th>\n",
              "      <th>Age</th>\n",
              "    </tr>\n",
              "  </thead>\n",
              "  <tbody>\n",
              "    <tr>\n",
              "      <th>0</th>\n",
              "      <td>6</td>\n",
              "      <td>148</td>\n",
              "      <td>72</td>\n",
              "      <td>35</td>\n",
              "      <td>0</td>\n",
              "      <td>33.6</td>\n",
              "      <td>0.627</td>\n",
              "      <td>50</td>\n",
              "    </tr>\n",
              "    <tr>\n",
              "      <th>1</th>\n",
              "      <td>1</td>\n",
              "      <td>85</td>\n",
              "      <td>66</td>\n",
              "      <td>29</td>\n",
              "      <td>0</td>\n",
              "      <td>26.6</td>\n",
              "      <td>0.351</td>\n",
              "      <td>31</td>\n",
              "    </tr>\n",
              "    <tr>\n",
              "      <th>2</th>\n",
              "      <td>8</td>\n",
              "      <td>183</td>\n",
              "      <td>64</td>\n",
              "      <td>0</td>\n",
              "      <td>0</td>\n",
              "      <td>23.3</td>\n",
              "      <td>0.672</td>\n",
              "      <td>32</td>\n",
              "    </tr>\n",
              "    <tr>\n",
              "      <th>3</th>\n",
              "      <td>1</td>\n",
              "      <td>89</td>\n",
              "      <td>66</td>\n",
              "      <td>23</td>\n",
              "      <td>94</td>\n",
              "      <td>28.1</td>\n",
              "      <td>0.167</td>\n",
              "      <td>21</td>\n",
              "    </tr>\n",
              "    <tr>\n",
              "      <th>4</th>\n",
              "      <td>0</td>\n",
              "      <td>137</td>\n",
              "      <td>40</td>\n",
              "      <td>35</td>\n",
              "      <td>168</td>\n",
              "      <td>43.1</td>\n",
              "      <td>2.288</td>\n",
              "      <td>33</td>\n",
              "    </tr>\n",
              "    <tr>\n",
              "      <th>...</th>\n",
              "      <td>...</td>\n",
              "      <td>...</td>\n",
              "      <td>...</td>\n",
              "      <td>...</td>\n",
              "      <td>...</td>\n",
              "      <td>...</td>\n",
              "      <td>...</td>\n",
              "      <td>...</td>\n",
              "    </tr>\n",
              "    <tr>\n",
              "      <th>763</th>\n",
              "      <td>10</td>\n",
              "      <td>101</td>\n",
              "      <td>76</td>\n",
              "      <td>48</td>\n",
              "      <td>180</td>\n",
              "      <td>32.9</td>\n",
              "      <td>0.171</td>\n",
              "      <td>63</td>\n",
              "    </tr>\n",
              "    <tr>\n",
              "      <th>764</th>\n",
              "      <td>2</td>\n",
              "      <td>122</td>\n",
              "      <td>70</td>\n",
              "      <td>27</td>\n",
              "      <td>0</td>\n",
              "      <td>36.8</td>\n",
              "      <td>0.340</td>\n",
              "      <td>27</td>\n",
              "    </tr>\n",
              "    <tr>\n",
              "      <th>765</th>\n",
              "      <td>5</td>\n",
              "      <td>121</td>\n",
              "      <td>72</td>\n",
              "      <td>23</td>\n",
              "      <td>112</td>\n",
              "      <td>26.2</td>\n",
              "      <td>0.245</td>\n",
              "      <td>30</td>\n",
              "    </tr>\n",
              "    <tr>\n",
              "      <th>766</th>\n",
              "      <td>1</td>\n",
              "      <td>126</td>\n",
              "      <td>60</td>\n",
              "      <td>0</td>\n",
              "      <td>0</td>\n",
              "      <td>30.1</td>\n",
              "      <td>0.349</td>\n",
              "      <td>47</td>\n",
              "    </tr>\n",
              "    <tr>\n",
              "      <th>767</th>\n",
              "      <td>1</td>\n",
              "      <td>93</td>\n",
              "      <td>70</td>\n",
              "      <td>31</td>\n",
              "      <td>0</td>\n",
              "      <td>30.4</td>\n",
              "      <td>0.315</td>\n",
              "      <td>23</td>\n",
              "    </tr>\n",
              "  </tbody>\n",
              "</table>\n",
              "<p>768 rows × 8 columns</p>\n",
              "</div>\n",
              "      <button class=\"colab-df-convert\" onclick=\"convertToInteractive('df-0666032b-5d99-40d9-bd6b-f9a963315b10')\"\n",
              "              title=\"Convert this dataframe to an interactive table.\"\n",
              "              style=\"display:none;\">\n",
              "        \n",
              "  <svg xmlns=\"http://www.w3.org/2000/svg\" height=\"24px\"viewBox=\"0 0 24 24\"\n",
              "       width=\"24px\">\n",
              "    <path d=\"M0 0h24v24H0V0z\" fill=\"none\"/>\n",
              "    <path d=\"M18.56 5.44l.94 2.06.94-2.06 2.06-.94-2.06-.94-.94-2.06-.94 2.06-2.06.94zm-11 1L8.5 8.5l.94-2.06 2.06-.94-2.06-.94L8.5 2.5l-.94 2.06-2.06.94zm10 10l.94 2.06.94-2.06 2.06-.94-2.06-.94-.94-2.06-.94 2.06-2.06.94z\"/><path d=\"M17.41 7.96l-1.37-1.37c-.4-.4-.92-.59-1.43-.59-.52 0-1.04.2-1.43.59L10.3 9.45l-7.72 7.72c-.78.78-.78 2.05 0 2.83L4 21.41c.39.39.9.59 1.41.59.51 0 1.02-.2 1.41-.59l7.78-7.78 2.81-2.81c.8-.78.8-2.07 0-2.86zM5.41 20L4 18.59l7.72-7.72 1.47 1.35L5.41 20z\"/>\n",
              "  </svg>\n",
              "      </button>\n",
              "      \n",
              "  <style>\n",
              "    .colab-df-container {\n",
              "      display:flex;\n",
              "      flex-wrap:wrap;\n",
              "      gap: 12px;\n",
              "    }\n",
              "\n",
              "    .colab-df-convert {\n",
              "      background-color: #E8F0FE;\n",
              "      border: none;\n",
              "      border-radius: 50%;\n",
              "      cursor: pointer;\n",
              "      display: none;\n",
              "      fill: #1967D2;\n",
              "      height: 32px;\n",
              "      padding: 0 0 0 0;\n",
              "      width: 32px;\n",
              "    }\n",
              "\n",
              "    .colab-df-convert:hover {\n",
              "      background-color: #E2EBFA;\n",
              "      box-shadow: 0px 1px 2px rgba(60, 64, 67, 0.3), 0px 1px 3px 1px rgba(60, 64, 67, 0.15);\n",
              "      fill: #174EA6;\n",
              "    }\n",
              "\n",
              "    [theme=dark] .colab-df-convert {\n",
              "      background-color: #3B4455;\n",
              "      fill: #D2E3FC;\n",
              "    }\n",
              "\n",
              "    [theme=dark] .colab-df-convert:hover {\n",
              "      background-color: #434B5C;\n",
              "      box-shadow: 0px 1px 3px 1px rgba(0, 0, 0, 0.15);\n",
              "      filter: drop-shadow(0px 1px 2px rgba(0, 0, 0, 0.3));\n",
              "      fill: #FFFFFF;\n",
              "    }\n",
              "  </style>\n",
              "\n",
              "      <script>\n",
              "        const buttonEl =\n",
              "          document.querySelector('#df-0666032b-5d99-40d9-bd6b-f9a963315b10 button.colab-df-convert');\n",
              "        buttonEl.style.display =\n",
              "          google.colab.kernel.accessAllowed ? 'block' : 'none';\n",
              "\n",
              "        async function convertToInteractive(key) {\n",
              "          const element = document.querySelector('#df-0666032b-5d99-40d9-bd6b-f9a963315b10');\n",
              "          const dataTable =\n",
              "            await google.colab.kernel.invokeFunction('convertToInteractive',\n",
              "                                                     [key], {});\n",
              "          if (!dataTable) return;\n",
              "\n",
              "          const docLinkHtml = 'Like what you see? Visit the ' +\n",
              "            '<a target=\"_blank\" href=https://colab.research.google.com/notebooks/data_table.ipynb>data table notebook</a>'\n",
              "            + ' to learn more about interactive tables.';\n",
              "          element.innerHTML = '';\n",
              "          dataTable['output_type'] = 'display_data';\n",
              "          await google.colab.output.renderOutput(dataTable, element);\n",
              "          const docLink = document.createElement('div');\n",
              "          docLink.innerHTML = docLinkHtml;\n",
              "          element.appendChild(docLink);\n",
              "        }\n",
              "      </script>\n",
              "    </div>\n",
              "  </div>\n",
              "  "
            ],
            "text/plain": [
              "     Pregnancies  Glucose  BloodPressure  ...   BMI  DiabetesPedigreeFunction  Age\n",
              "0              6      148             72  ...  33.6                     0.627   50\n",
              "1              1       85             66  ...  26.6                     0.351   31\n",
              "2              8      183             64  ...  23.3                     0.672   32\n",
              "3              1       89             66  ...  28.1                     0.167   21\n",
              "4              0      137             40  ...  43.1                     2.288   33\n",
              "..           ...      ...            ...  ...   ...                       ...  ...\n",
              "763           10      101             76  ...  32.9                     0.171   63\n",
              "764            2      122             70  ...  36.8                     0.340   27\n",
              "765            5      121             72  ...  26.2                     0.245   30\n",
              "766            1      126             60  ...  30.1                     0.349   47\n",
              "767            1       93             70  ...  30.4                     0.315   23\n",
              "\n",
              "[768 rows x 8 columns]"
            ]
          },
          "metadata": {},
          "execution_count": 52
        }
      ]
    },
    {
      "cell_type": "code",
      "source": [
        "target"
      ],
      "metadata": {
        "colab": {
          "base_uri": "https://localhost:8080/",
          "height": 424
        },
        "id": "5YoPWfz07XjV",
        "outputId": "5e79c890-0c48-49f4-e8a7-f09b340a92d2"
      },
      "execution_count": null,
      "outputs": [
        {
          "output_type": "execute_result",
          "data": {
            "text/html": [
              "\n",
              "  <div id=\"df-5a33c205-4627-46b4-9655-51900a1efd8a\">\n",
              "    <div class=\"colab-df-container\">\n",
              "      <div>\n",
              "<style scoped>\n",
              "    .dataframe tbody tr th:only-of-type {\n",
              "        vertical-align: middle;\n",
              "    }\n",
              "\n",
              "    .dataframe tbody tr th {\n",
              "        vertical-align: top;\n",
              "    }\n",
              "\n",
              "    .dataframe thead th {\n",
              "        text-align: right;\n",
              "    }\n",
              "</style>\n",
              "<table border=\"1\" class=\"dataframe\">\n",
              "  <thead>\n",
              "    <tr style=\"text-align: right;\">\n",
              "      <th></th>\n",
              "      <th>Outcome</th>\n",
              "    </tr>\n",
              "  </thead>\n",
              "  <tbody>\n",
              "    <tr>\n",
              "      <th>0</th>\n",
              "      <td>1</td>\n",
              "    </tr>\n",
              "    <tr>\n",
              "      <th>1</th>\n",
              "      <td>0</td>\n",
              "    </tr>\n",
              "    <tr>\n",
              "      <th>2</th>\n",
              "      <td>1</td>\n",
              "    </tr>\n",
              "    <tr>\n",
              "      <th>3</th>\n",
              "      <td>0</td>\n",
              "    </tr>\n",
              "    <tr>\n",
              "      <th>4</th>\n",
              "      <td>1</td>\n",
              "    </tr>\n",
              "    <tr>\n",
              "      <th>...</th>\n",
              "      <td>...</td>\n",
              "    </tr>\n",
              "    <tr>\n",
              "      <th>763</th>\n",
              "      <td>0</td>\n",
              "    </tr>\n",
              "    <tr>\n",
              "      <th>764</th>\n",
              "      <td>0</td>\n",
              "    </tr>\n",
              "    <tr>\n",
              "      <th>765</th>\n",
              "      <td>0</td>\n",
              "    </tr>\n",
              "    <tr>\n",
              "      <th>766</th>\n",
              "      <td>1</td>\n",
              "    </tr>\n",
              "    <tr>\n",
              "      <th>767</th>\n",
              "      <td>0</td>\n",
              "    </tr>\n",
              "  </tbody>\n",
              "</table>\n",
              "<p>768 rows × 1 columns</p>\n",
              "</div>\n",
              "      <button class=\"colab-df-convert\" onclick=\"convertToInteractive('df-5a33c205-4627-46b4-9655-51900a1efd8a')\"\n",
              "              title=\"Convert this dataframe to an interactive table.\"\n",
              "              style=\"display:none;\">\n",
              "        \n",
              "  <svg xmlns=\"http://www.w3.org/2000/svg\" height=\"24px\"viewBox=\"0 0 24 24\"\n",
              "       width=\"24px\">\n",
              "    <path d=\"M0 0h24v24H0V0z\" fill=\"none\"/>\n",
              "    <path d=\"M18.56 5.44l.94 2.06.94-2.06 2.06-.94-2.06-.94-.94-2.06-.94 2.06-2.06.94zm-11 1L8.5 8.5l.94-2.06 2.06-.94-2.06-.94L8.5 2.5l-.94 2.06-2.06.94zm10 10l.94 2.06.94-2.06 2.06-.94-2.06-.94-.94-2.06-.94 2.06-2.06.94z\"/><path d=\"M17.41 7.96l-1.37-1.37c-.4-.4-.92-.59-1.43-.59-.52 0-1.04.2-1.43.59L10.3 9.45l-7.72 7.72c-.78.78-.78 2.05 0 2.83L4 21.41c.39.39.9.59 1.41.59.51 0 1.02-.2 1.41-.59l7.78-7.78 2.81-2.81c.8-.78.8-2.07 0-2.86zM5.41 20L4 18.59l7.72-7.72 1.47 1.35L5.41 20z\"/>\n",
              "  </svg>\n",
              "      </button>\n",
              "      \n",
              "  <style>\n",
              "    .colab-df-container {\n",
              "      display:flex;\n",
              "      flex-wrap:wrap;\n",
              "      gap: 12px;\n",
              "    }\n",
              "\n",
              "    .colab-df-convert {\n",
              "      background-color: #E8F0FE;\n",
              "      border: none;\n",
              "      border-radius: 50%;\n",
              "      cursor: pointer;\n",
              "      display: none;\n",
              "      fill: #1967D2;\n",
              "      height: 32px;\n",
              "      padding: 0 0 0 0;\n",
              "      width: 32px;\n",
              "    }\n",
              "\n",
              "    .colab-df-convert:hover {\n",
              "      background-color: #E2EBFA;\n",
              "      box-shadow: 0px 1px 2px rgba(60, 64, 67, 0.3), 0px 1px 3px 1px rgba(60, 64, 67, 0.15);\n",
              "      fill: #174EA6;\n",
              "    }\n",
              "\n",
              "    [theme=dark] .colab-df-convert {\n",
              "      background-color: #3B4455;\n",
              "      fill: #D2E3FC;\n",
              "    }\n",
              "\n",
              "    [theme=dark] .colab-df-convert:hover {\n",
              "      background-color: #434B5C;\n",
              "      box-shadow: 0px 1px 3px 1px rgba(0, 0, 0, 0.15);\n",
              "      filter: drop-shadow(0px 1px 2px rgba(0, 0, 0, 0.3));\n",
              "      fill: #FFFFFF;\n",
              "    }\n",
              "  </style>\n",
              "\n",
              "      <script>\n",
              "        const buttonEl =\n",
              "          document.querySelector('#df-5a33c205-4627-46b4-9655-51900a1efd8a button.colab-df-convert');\n",
              "        buttonEl.style.display =\n",
              "          google.colab.kernel.accessAllowed ? 'block' : 'none';\n",
              "\n",
              "        async function convertToInteractive(key) {\n",
              "          const element = document.querySelector('#df-5a33c205-4627-46b4-9655-51900a1efd8a');\n",
              "          const dataTable =\n",
              "            await google.colab.kernel.invokeFunction('convertToInteractive',\n",
              "                                                     [key], {});\n",
              "          if (!dataTable) return;\n",
              "\n",
              "          const docLinkHtml = 'Like what you see? Visit the ' +\n",
              "            '<a target=\"_blank\" href=https://colab.research.google.com/notebooks/data_table.ipynb>data table notebook</a>'\n",
              "            + ' to learn more about interactive tables.';\n",
              "          element.innerHTML = '';\n",
              "          dataTable['output_type'] = 'display_data';\n",
              "          await google.colab.output.renderOutput(dataTable, element);\n",
              "          const docLink = document.createElement('div');\n",
              "          docLink.innerHTML = docLinkHtml;\n",
              "          element.appendChild(docLink);\n",
              "        }\n",
              "      </script>\n",
              "    </div>\n",
              "  </div>\n",
              "  "
            ],
            "text/plain": [
              "     Outcome\n",
              "0          1\n",
              "1          0\n",
              "2          1\n",
              "3          0\n",
              "4          1\n",
              "..       ...\n",
              "763        0\n",
              "764        0\n",
              "765        0\n",
              "766        1\n",
              "767        0\n",
              "\n",
              "[768 rows x 1 columns]"
            ]
          },
          "metadata": {},
          "execution_count": 53
        }
      ]
    },
    {
      "cell_type": "code",
      "source": [
        "x_train,x_test,y_train,y_test=train_test_split(feature,target,test_size = 0.2,random_state = 0)\n",
        "\n",
        "print(x_train.shape)\n",
        "print(x_test.shape)"
      ],
      "metadata": {
        "colab": {
          "base_uri": "https://localhost:8080/"
        },
        "id": "GhaxTFXV7Z6L",
        "outputId": "e341ffb5-4c2d-4fcb-ae6d-a011cceca288"
      },
      "execution_count": null,
      "outputs": [
        {
          "output_type": "stream",
          "name": "stdout",
          "text": [
            "(614, 8)\n",
            "(154, 8)\n"
          ]
        }
      ]
    },
    {
      "cell_type": "code",
      "source": [
        "x_sc = StandardScaler()\n",
        "x_train = x_sc.fit_transform(x_train)\n",
        "x_test = x_sc.transform(x_test)"
      ],
      "metadata": {
        "id": "X-2z1Iv-7lNS"
      },
      "execution_count": null,
      "outputs": []
    },
    {
      "cell_type": "code",
      "source": [
        "import tensorflow as tf\n",
        "from tensorflow.keras import Sequential\n",
        "from tensorflow.keras.layers import Dense"
      ],
      "metadata": {
        "id": "BWR5utkf7oAM"
      },
      "execution_count": null,
      "outputs": []
    },
    {
      "cell_type": "code",
      "source": [
        "model = Sequential()\n",
        "model.add(Dense(10, input_dim=8, activation='relu'))\n",
        "model.add(Dense(20, activation='relu'))\n",
        "model.add(Dense(10, activation='relu'))\n",
        "model.add(Dense(1, activation='sigmoid'))"
      ],
      "metadata": {
        "id": "FzGzrhi17o1U"
      },
      "execution_count": null,
      "outputs": []
    },
    {
      "cell_type": "markdown",
      "source": [
        "Here, a sequential model is developed using keras library. There is an input layer, two hidden layers and an output layer. The input layer contains of 10 neurons, hidden layers contain of 20 and 10 neurons respectively and output layer has 1 neuron. Relu is applied as an activation function in every dense layer without the last layer. In the last layer, sigmoid is used because our dataset is a binary class problem.\n"
      ],
      "metadata": {
        "id": "HwKBqWaWJqb6"
      }
    },
    {
      "cell_type": "code",
      "source": [
        "model.summary()"
      ],
      "metadata": {
        "colab": {
          "base_uri": "https://localhost:8080/"
        },
        "id": "5jSj9txS7xsb",
        "outputId": "d9f026b2-8207-49e4-a3e2-d7222cfe97e1"
      },
      "execution_count": null,
      "outputs": [
        {
          "output_type": "stream",
          "name": "stdout",
          "text": [
            "Model: \"sequential_2\"\n",
            "_________________________________________________________________\n",
            " Layer (type)                Output Shape              Param #   \n",
            "=================================================================\n",
            " dense_8 (Dense)             (None, 10)                90        \n",
            "                                                                 \n",
            " dense_9 (Dense)             (None, 20)                220       \n",
            "                                                                 \n",
            " dense_10 (Dense)            (None, 10)                210       \n",
            "                                                                 \n",
            " dense_11 (Dense)            (None, 1)                 11        \n",
            "                                                                 \n",
            "=================================================================\n",
            "Total params: 531\n",
            "Trainable params: 531\n",
            "Non-trainable params: 0\n",
            "_________________________________________________________________\n"
          ]
        }
      ]
    },
    {
      "cell_type": "code",
      "source": [
        "model.compile(loss='binary_crossentropy',\n",
        "              optimizer='adam',\n",
        "              metrics=['accuracy'])\n",
        "\n",
        "history = model.fit(x_train, \n",
        "                    y_train, \n",
        "                    epochs=50, \n",
        "                    validation_split=0.1)"
      ],
      "metadata": {
        "id": "yn0ce11l8XIj",
        "colab": {
          "base_uri": "https://localhost:8080/"
        },
        "outputId": "c8669984-3248-4e86-d066-5a17add4735a"
      },
      "execution_count": null,
      "outputs": [
        {
          "output_type": "stream",
          "name": "stdout",
          "text": [
            "Epoch 1/50\n",
            "18/18 [==============================] - 4s 77ms/step - loss: 0.6540 - accuracy: 0.6431 - val_loss: 0.6177 - val_accuracy: 0.7097\n",
            "Epoch 2/50\n",
            "18/18 [==============================] - 0s 10ms/step - loss: 0.6261 - accuracy: 0.6558 - val_loss: 0.5896 - val_accuracy: 0.7258\n",
            "Epoch 3/50\n",
            "18/18 [==============================] - 0s 10ms/step - loss: 0.6052 - accuracy: 0.6739 - val_loss: 0.5670 - val_accuracy: 0.7258\n",
            "Epoch 4/50\n",
            "18/18 [==============================] - 0s 13ms/step - loss: 0.5866 - accuracy: 0.6739 - val_loss: 0.5513 - val_accuracy: 0.7419\n",
            "Epoch 5/50\n",
            "18/18 [==============================] - 0s 17ms/step - loss: 0.5709 - accuracy: 0.6848 - val_loss: 0.5359 - val_accuracy: 0.7419\n",
            "Epoch 6/50\n",
            "18/18 [==============================] - 0s 11ms/step - loss: 0.5569 - accuracy: 0.6975 - val_loss: 0.5235 - val_accuracy: 0.7419\n",
            "Epoch 7/50\n",
            "18/18 [==============================] - 0s 13ms/step - loss: 0.5452 - accuracy: 0.6993 - val_loss: 0.5117 - val_accuracy: 0.7742\n",
            "Epoch 8/50\n",
            "18/18 [==============================] - 0s 14ms/step - loss: 0.5331 - accuracy: 0.7047 - val_loss: 0.5025 - val_accuracy: 0.7903\n",
            "Epoch 9/50\n",
            "18/18 [==============================] - 0s 13ms/step - loss: 0.5238 - accuracy: 0.7156 - val_loss: 0.4958 - val_accuracy: 0.8226\n",
            "Epoch 10/50\n",
            "18/18 [==============================] - 0s 16ms/step - loss: 0.5170 - accuracy: 0.7301 - val_loss: 0.4902 - val_accuracy: 0.8548\n",
            "Epoch 11/50\n",
            "18/18 [==============================] - 0s 8ms/step - loss: 0.5085 - accuracy: 0.7373 - val_loss: 0.4875 - val_accuracy: 0.8548\n",
            "Epoch 12/50\n",
            "18/18 [==============================] - 0s 15ms/step - loss: 0.5011 - accuracy: 0.7409 - val_loss: 0.4824 - val_accuracy: 0.8387\n",
            "Epoch 13/50\n",
            "18/18 [==============================] - 0s 18ms/step - loss: 0.4940 - accuracy: 0.7464 - val_loss: 0.4782 - val_accuracy: 0.8548\n",
            "Epoch 14/50\n",
            "18/18 [==============================] - 0s 15ms/step - loss: 0.4884 - accuracy: 0.7500 - val_loss: 0.4763 - val_accuracy: 0.8548\n",
            "Epoch 15/50\n",
            "18/18 [==============================] - 0s 13ms/step - loss: 0.4826 - accuracy: 0.7572 - val_loss: 0.4728 - val_accuracy: 0.8548\n",
            "Epoch 16/50\n",
            "18/18 [==============================] - 0s 14ms/step - loss: 0.4786 - accuracy: 0.7663 - val_loss: 0.4729 - val_accuracy: 0.8548\n",
            "Epoch 17/50\n",
            "18/18 [==============================] - 0s 15ms/step - loss: 0.4736 - accuracy: 0.7699 - val_loss: 0.4677 - val_accuracy: 0.8548\n",
            "Epoch 18/50\n",
            "18/18 [==============================] - 0s 11ms/step - loss: 0.4697 - accuracy: 0.7663 - val_loss: 0.4670 - val_accuracy: 0.8548\n",
            "Epoch 19/50\n",
            "18/18 [==============================] - 0s 20ms/step - loss: 0.4655 - accuracy: 0.7772 - val_loss: 0.4647 - val_accuracy: 0.8548\n",
            "Epoch 20/50\n",
            "18/18 [==============================] - 0s 14ms/step - loss: 0.4635 - accuracy: 0.7736 - val_loss: 0.4637 - val_accuracy: 0.8548\n",
            "Epoch 21/50\n",
            "18/18 [==============================] - 0s 9ms/step - loss: 0.4595 - accuracy: 0.7790 - val_loss: 0.4598 - val_accuracy: 0.8548\n",
            "Epoch 22/50\n",
            "18/18 [==============================] - 0s 13ms/step - loss: 0.4561 - accuracy: 0.7862 - val_loss: 0.4561 - val_accuracy: 0.8548\n",
            "Epoch 23/50\n",
            "18/18 [==============================] - 0s 17ms/step - loss: 0.4536 - accuracy: 0.7790 - val_loss: 0.4555 - val_accuracy: 0.8548\n",
            "Epoch 24/50\n",
            "18/18 [==============================] - 0s 12ms/step - loss: 0.4512 - accuracy: 0.7826 - val_loss: 0.4548 - val_accuracy: 0.8387\n",
            "Epoch 25/50\n",
            "18/18 [==============================] - 0s 11ms/step - loss: 0.4484 - accuracy: 0.7754 - val_loss: 0.4550 - val_accuracy: 0.8387\n",
            "Epoch 26/50\n",
            "18/18 [==============================] - 0s 11ms/step - loss: 0.4481 - accuracy: 0.7844 - val_loss: 0.4481 - val_accuracy: 0.8548\n",
            "Epoch 27/50\n",
            "18/18 [==============================] - 0s 13ms/step - loss: 0.4431 - accuracy: 0.7862 - val_loss: 0.4465 - val_accuracy: 0.8387\n",
            "Epoch 28/50\n",
            "18/18 [==============================] - 0s 14ms/step - loss: 0.4426 - accuracy: 0.7826 - val_loss: 0.4477 - val_accuracy: 0.8387\n",
            "Epoch 29/50\n",
            "18/18 [==============================] - 0s 16ms/step - loss: 0.4394 - accuracy: 0.7862 - val_loss: 0.4469 - val_accuracy: 0.8226\n",
            "Epoch 30/50\n",
            "18/18 [==============================] - 0s 8ms/step - loss: 0.4385 - accuracy: 0.7880 - val_loss: 0.4456 - val_accuracy: 0.8226\n",
            "Epoch 31/50\n",
            "18/18 [==============================] - 0s 11ms/step - loss: 0.4357 - accuracy: 0.7971 - val_loss: 0.4439 - val_accuracy: 0.8387\n",
            "Epoch 32/50\n",
            "18/18 [==============================] - 0s 13ms/step - loss: 0.4353 - accuracy: 0.7953 - val_loss: 0.4466 - val_accuracy: 0.8387\n",
            "Epoch 33/50\n",
            "18/18 [==============================] - 0s 14ms/step - loss: 0.4338 - accuracy: 0.7953 - val_loss: 0.4429 - val_accuracy: 0.8387\n",
            "Epoch 34/50\n",
            "18/18 [==============================] - 0s 12ms/step - loss: 0.4303 - accuracy: 0.7971 - val_loss: 0.4463 - val_accuracy: 0.8226\n",
            "Epoch 35/50\n",
            "18/18 [==============================] - 0s 15ms/step - loss: 0.4285 - accuracy: 0.7953 - val_loss: 0.4438 - val_accuracy: 0.8226\n",
            "Epoch 36/50\n",
            "18/18 [==============================] - 0s 10ms/step - loss: 0.4271 - accuracy: 0.7989 - val_loss: 0.4441 - val_accuracy: 0.8226\n",
            "Epoch 37/50\n",
            "18/18 [==============================] - 0s 17ms/step - loss: 0.4260 - accuracy: 0.7953 - val_loss: 0.4450 - val_accuracy: 0.8226\n",
            "Epoch 38/50\n",
            "18/18 [==============================] - 0s 15ms/step - loss: 0.4236 - accuracy: 0.7971 - val_loss: 0.4486 - val_accuracy: 0.8226\n",
            "Epoch 39/50\n",
            "18/18 [==============================] - 0s 9ms/step - loss: 0.4230 - accuracy: 0.8007 - val_loss: 0.4484 - val_accuracy: 0.8226\n",
            "Epoch 40/50\n",
            "18/18 [==============================] - 0s 13ms/step - loss: 0.4209 - accuracy: 0.8025 - val_loss: 0.4430 - val_accuracy: 0.8387\n",
            "Epoch 41/50\n",
            "18/18 [==============================] - 0s 10ms/step - loss: 0.4187 - accuracy: 0.8043 - val_loss: 0.4445 - val_accuracy: 0.8226\n",
            "Epoch 42/50\n",
            "18/18 [==============================] - 0s 13ms/step - loss: 0.4189 - accuracy: 0.8062 - val_loss: 0.4443 - val_accuracy: 0.8226\n",
            "Epoch 43/50\n",
            "18/18 [==============================] - 0s 11ms/step - loss: 0.4160 - accuracy: 0.8062 - val_loss: 0.4435 - val_accuracy: 0.8065\n",
            "Epoch 44/50\n",
            "18/18 [==============================] - 0s 13ms/step - loss: 0.4155 - accuracy: 0.8098 - val_loss: 0.4431 - val_accuracy: 0.8226\n",
            "Epoch 45/50\n",
            "18/18 [==============================] - 0s 13ms/step - loss: 0.4146 - accuracy: 0.8062 - val_loss: 0.4468 - val_accuracy: 0.8226\n",
            "Epoch 46/50\n",
            "18/18 [==============================] - 0s 15ms/step - loss: 0.4120 - accuracy: 0.8098 - val_loss: 0.4421 - val_accuracy: 0.8065\n",
            "Epoch 47/50\n",
            "18/18 [==============================] - 0s 16ms/step - loss: 0.4109 - accuracy: 0.8116 - val_loss: 0.4405 - val_accuracy: 0.8065\n",
            "Epoch 48/50\n",
            "18/18 [==============================] - 0s 11ms/step - loss: 0.4102 - accuracy: 0.8062 - val_loss: 0.4444 - val_accuracy: 0.8226\n",
            "Epoch 49/50\n",
            "18/18 [==============================] - 0s 14ms/step - loss: 0.4083 - accuracy: 0.8098 - val_loss: 0.4386 - val_accuracy: 0.8065\n",
            "Epoch 50/50\n",
            "18/18 [==============================] - 0s 11ms/step - loss: 0.4066 - accuracy: 0.8116 - val_loss: 0.4387 - val_accuracy: 0.8065\n"
          ]
        }
      ]
    },
    {
      "cell_type": "code",
      "source": [
        "history_df = pd.DataFrame(history.history)\n",
        "plt.plot(history_df['loss'], label='loss')\n",
        "plt.plot(history_df['val_loss'], label='val_loss')\n",
        "plt.xlabel('epoch')\n",
        "plt.ylabel('loss')\n",
        "plt.legend()"
      ],
      "metadata": {
        "colab": {
          "base_uri": "https://localhost:8080/",
          "height": 296
        },
        "id": "G7b0_-F58XPS",
        "outputId": "223b4bf1-18ab-4d29-fad3-691ceffe7e6e"
      },
      "execution_count": null,
      "outputs": [
        {
          "output_type": "execute_result",
          "data": {
            "text/plain": [
              "<matplotlib.legend.Legend at 0x7fec99c1c6d0>"
            ]
          },
          "metadata": {},
          "execution_count": 60
        },
        {
          "output_type": "display_data",
          "data": {
            "image/png": "[encoded data removed]",
            "text/plain": [
              "<Figure size 432x288 with 1 Axes>"
            ]
          },
          "metadata": {
            "needs_background": "light"
          }
        }
      ]
    },
    {
      "cell_type": "code",
      "source": [
        "plt.plot(history_df['accuracy'], label='acc')\n",
        "plt.plot(history_df['val_accuracy'], label='val_acc')\n",
        "plt.xlabel('epoch')\n",
        "plt.ylabel('accuracy')\n",
        "plt.legend()"
      ],
      "metadata": {
        "colab": {
          "base_uri": "https://localhost:8080/",
          "height": 296
        },
        "id": "xmqSWvC78XX6",
        "outputId": "88038ce2-f4b3-499b-fa93-89c717086e81"
      },
      "execution_count": null,
      "outputs": [
        {
          "output_type": "execute_result",
          "data": {
            "text/plain": [
              "<matplotlib.legend.Legend at 0x7fec9b498290>"
            ]
          },
          "metadata": {},
          "execution_count": 61
        },
        {
          "output_type": "display_data",
          "data": {
            "image/png": "[encoded data removed]",
            "text/plain": [
              "<Figure size 432x288 with 1 Axes>"
            ]
          },
          "metadata": {
            "needs_background": "light"
          }
        }
      ]
    },
    {
      "cell_type": "code",
      "source": [
        "from sklearn.metrics import classification_report, confusion_matrix, ConfusionMatrixDisplay\n",
        "y_pred = model.predict(x_test)\n",
        "y_pred = y_pred > 0.5\n",
        "pred = y_pred.astype('uint8')\n",
        "cm = confusion_matrix(y_test,y_pred)\n",
        "disp = ConfusionMatrixDisplay(confusion_matrix=cm)\n",
        "disp.plot()\n",
        "plt.show()\n",
        "\n",
        "print(classification_report(y_test,y_pred,target_names = ['No','Yes']))"
      ],
      "metadata": {
        "colab": {
          "base_uri": "https://localhost:8080/",
          "height": 435
        },
        "id": "7vCO86Fe9hzt",
        "outputId": "9c2efdcf-2947-4b8f-dc36-d9f570e1b045"
      },
      "execution_count": null,
      "outputs": [
        {
          "output_type": "display_data",
          "data": {
            "image/png": "[encoded data removed]",
            "text/plain": [
              "<Figure size 432x288 with 2 Axes>"
            ]
          },
          "metadata": {
            "needs_background": "light"
          }
        },
        {
          "output_type": "stream",
          "name": "stdout",
          "text": [
            "              precision    recall  f1-score   support\n",
            "\n",
            "          No       0.84      0.86      0.85       107\n",
            "         Yes       0.67      0.64      0.65        47\n",
            "\n",
            "    accuracy                           0.79       154\n",
            "   macro avg       0.76      0.75      0.75       154\n",
            "weighted avg       0.79      0.79      0.79       154\n",
            "\n"
          ]
        }
      ]
    },
    {
      "cell_type": "markdown",
      "source": [
        "For no class, it gives 92 correctly prediction and 15 wrong prediction. For yes class, it gives 17 wrong prediction and 30 correct prediction."
      ],
      "metadata": {
        "id": "HjL1sylST7W1"
      }
    },
    {
      "cell_type": "code",
      "source": [
        "! pip install klib"
      ],
      "metadata": {
        "colab": {
          "base_uri": "https://localhost:8080/"
        },
        "id": "BcV5wCY8JMHi",
        "outputId": "29725292-dfd8-46e2-cd7a-d0aa5abcf7cc"
      },
      "execution_count": null,
      "outputs": [
        {
          "output_type": "stream",
          "name": "stdout",
          "text": [
            "Requirement already satisfied: klib in /usr/local/lib/python3.7/dist-packages (0.2.2)\n",
            "Requirement already satisfied: seaborn>=0.11.1 in /usr/local/lib/python3.7/dist-packages (from klib) (0.11.2)\n",
            "Requirement already satisfied: scipy>=1.1.0 in /usr/local/lib/python3.7/dist-packages (from klib) (1.4.1)\n",
            "Requirement already satisfied: pandas>=1.1.2 in /usr/local/lib/python3.7/dist-packages (from klib) (1.1.5)\n",
            "Requirement already satisfied: numpy>=1.16.3 in /usr/local/lib/python3.7/dist-packages (from klib) (1.19.5)\n",
            "Requirement already satisfied: scikit-learn>=0.23.1 in /usr/local/lib/python3.7/dist-packages (from klib) (1.0.1)\n",
            "Requirement already satisfied: matplotlib>=3.0.3 in /usr/local/lib/python3.7/dist-packages (from klib) (3.2.2)\n",
            "Requirement already satisfied: python-dateutil>=2.1 in /usr/local/lib/python3.7/dist-packages (from matplotlib>=3.0.3->klib) (2.8.2)\n",
            "Requirement already satisfied: pyparsing!=2.0.4,!=2.1.2,!=2.1.6,>=2.0.1 in /usr/local/lib/python3.7/dist-packages (from matplotlib>=3.0.3->klib) (3.0.6)\n",
            "Requirement already satisfied: cycler>=0.10 in /usr/local/lib/python3.7/dist-packages (from matplotlib>=3.0.3->klib) (0.11.0)\n",
            "Requirement already satisfied: kiwisolver>=1.0.1 in /usr/local/lib/python3.7/dist-packages (from matplotlib>=3.0.3->klib) (1.3.2)\n",
            "Requirement already satisfied: pytz>=2017.2 in /usr/local/lib/python3.7/dist-packages (from pandas>=1.1.2->klib) (2018.9)\n",
            "Requirement already satisfied: six>=1.5 in /usr/local/lib/python3.7/dist-packages (from python-dateutil>=2.1->matplotlib>=3.0.3->klib) (1.15.0)\n",
            "Requirement already satisfied: joblib>=0.11 in /usr/local/lib/python3.7/dist-packages (from scikit-learn>=0.23.1->klib) (1.1.0)\n",
            "Requirement already satisfied: threadpoolctl>=2.0.0 in /usr/local/lib/python3.7/dist-packages (from scikit-learn>=0.23.1->klib) (3.0.0)\n"
          ]
        }
      ]
    },
    {
      "cell_type": "code",
      "source": [
        "import klib\n",
        "klib.corr_mat(dataset)"
      ],
      "metadata": {
        "colab": {
          "base_uri": "https://localhost:8080/",
          "height": 332
        },
        "id": "h4hlwsKOI3pl",
        "outputId": "eeec4a3d-3bfa-43cb-a20a-59dc7a2a9a07"
      },
      "execution_count": null,
      "outputs": [
        {
          "output_type": "execute_result",
          "data": {
            "text/html": [
              "<style  type=\"text/css\" >\n",
              "#T_310902b6_61c7_11ec_addc_0242ac1c0002row0_col0,#T_310902b6_61c7_11ec_addc_0242ac1c0002row0_col1,#T_310902b6_61c7_11ec_addc_0242ac1c0002row0_col2,#T_310902b6_61c7_11ec_addc_0242ac1c0002row0_col5,#T_310902b6_61c7_11ec_addc_0242ac1c0002row0_col7,#T_310902b6_61c7_11ec_addc_0242ac1c0002row0_col8,#T_310902b6_61c7_11ec_addc_0242ac1c0002row1_col0,#T_310902b6_61c7_11ec_addc_0242ac1c0002row1_col1,#T_310902b6_61c7_11ec_addc_0242ac1c0002row1_col2,#T_310902b6_61c7_11ec_addc_0242ac1c0002row1_col3,#T_310902b6_61c7_11ec_addc_0242ac1c0002row1_col4,#T_310902b6_61c7_11ec_addc_0242ac1c0002row1_col5,#T_310902b6_61c7_11ec_addc_0242ac1c0002row1_col6,#T_310902b6_61c7_11ec_addc_0242ac1c0002row1_col7,#T_310902b6_61c7_11ec_addc_0242ac1c0002row1_col8,#T_310902b6_61c7_11ec_addc_0242ac1c0002row2_col0,#T_310902b6_61c7_11ec_addc_0242ac1c0002row2_col1,#T_310902b6_61c7_11ec_addc_0242ac1c0002row2_col2,#T_310902b6_61c7_11ec_addc_0242ac1c0002row2_col3,#T_310902b6_61c7_11ec_addc_0242ac1c0002row2_col4,#T_310902b6_61c7_11ec_addc_0242ac1c0002row2_col5,#T_310902b6_61c7_11ec_addc_0242ac1c0002row2_col6,#T_310902b6_61c7_11ec_addc_0242ac1c0002row2_col7,#T_310902b6_61c7_11ec_addc_0242ac1c0002row2_col8,#T_310902b6_61c7_11ec_addc_0242ac1c0002row3_col1,#T_310902b6_61c7_11ec_addc_0242ac1c0002row3_col2,#T_310902b6_61c7_11ec_addc_0242ac1c0002row3_col3,#T_310902b6_61c7_11ec_addc_0242ac1c0002row3_col4,#T_310902b6_61c7_11ec_addc_0242ac1c0002row3_col5,#T_310902b6_61c7_11ec_addc_0242ac1c0002row3_col6,#T_310902b6_61c7_11ec_addc_0242ac1c0002row3_col8,#T_310902b6_61c7_11ec_addc_0242ac1c0002row4_col1,#T_310902b6_61c7_11ec_addc_0242ac1c0002row4_col2,#T_310902b6_61c7_11ec_addc_0242ac1c0002row4_col3,#T_310902b6_61c7_11ec_addc_0242ac1c0002row4_col4,#T_310902b6_61c7_11ec_addc_0242ac1c0002row4_col5,#T_310902b6_61c7_11ec_addc_0242ac1c0002row4_col6,#T_310902b6_61c7_11ec_addc_0242ac1c0002row4_col8,#T_310902b6_61c7_11ec_addc_0242ac1c0002row5_col0,#T_310902b6_61c7_11ec_addc_0242ac1c0002row5_col1,#T_310902b6_61c7_11ec_addc_0242ac1c0002row5_col2,#T_310902b6_61c7_11ec_addc_0242ac1c0002row5_col3,#T_310902b6_61c7_11ec_addc_0242ac1c0002row5_col4,#T_310902b6_61c7_11ec_addc_0242ac1c0002row5_col5,#T_310902b6_61c7_11ec_addc_0242ac1c0002row5_col6,#T_310902b6_61c7_11ec_addc_0242ac1c0002row5_col7,#T_310902b6_61c7_11ec_addc_0242ac1c0002row5_col8,#T_310902b6_61c7_11ec_addc_0242ac1c0002row6_col1,#T_310902b6_61c7_11ec_addc_0242ac1c0002row6_col2,#T_310902b6_61c7_11ec_addc_0242ac1c0002row6_col3,#T_310902b6_61c7_11ec_addc_0242ac1c0002row6_col4,#T_310902b6_61c7_11ec_addc_0242ac1c0002row6_col5,#T_310902b6_61c7_11ec_addc_0242ac1c0002row6_col6,#T_310902b6_61c7_11ec_addc_0242ac1c0002row6_col7,#T_310902b6_61c7_11ec_addc_0242ac1c0002row6_col8,#T_310902b6_61c7_11ec_addc_0242ac1c0002row7_col0,#T_310902b6_61c7_11ec_addc_0242ac1c0002row7_col1,#T_310902b6_61c7_11ec_addc_0242ac1c0002row7_col2,#T_310902b6_61c7_11ec_addc_0242ac1c0002row7_col5,#T_310902b6_61c7_11ec_addc_0242ac1c0002row7_col6,#T_310902b6_61c7_11ec_addc_0242ac1c0002row7_col7,#T_310902b6_61c7_11ec_addc_0242ac1c0002row7_col8,#T_310902b6_61c7_11ec_addc_0242ac1c0002row8_col0,#T_310902b6_61c7_11ec_addc_0242ac1c0002row8_col1,#T_310902b6_61c7_11ec_addc_0242ac1c0002row8_col2,#T_310902b6_61c7_11ec_addc_0242ac1c0002row8_col3,#T_310902b6_61c7_11ec_addc_0242ac1c0002row8_col4,#T_310902b6_61c7_11ec_addc_0242ac1c0002row8_col5,#T_310902b6_61c7_11ec_addc_0242ac1c0002row8_col6,#T_310902b6_61c7_11ec_addc_0242ac1c0002row8_col7,#T_310902b6_61c7_11ec_addc_0242ac1c0002row8_col8{\n",
              "            color:  None;\n",
              "        }#T_310902b6_61c7_11ec_addc_0242ac1c0002row0_col3,#T_310902b6_61c7_11ec_addc_0242ac1c0002row0_col4,#T_310902b6_61c7_11ec_addc_0242ac1c0002row0_col6,#T_310902b6_61c7_11ec_addc_0242ac1c0002row3_col0,#T_310902b6_61c7_11ec_addc_0242ac1c0002row3_col7,#T_310902b6_61c7_11ec_addc_0242ac1c0002row4_col0,#T_310902b6_61c7_11ec_addc_0242ac1c0002row4_col7,#T_310902b6_61c7_11ec_addc_0242ac1c0002row6_col0,#T_310902b6_61c7_11ec_addc_0242ac1c0002row7_col3,#T_310902b6_61c7_11ec_addc_0242ac1c0002row7_col4{\n",
              "            color:  #FF3344;\n",
              "        }</style><table id=\"T_310902b6_61c7_11ec_addc_0242ac1c0002\" class=\"dataframe\"><thead>    <tr>        <th class=\"blank level0\" ></th>        <th class=\"col_heading level0 col0\" >Pregnancies</th>        <th class=\"col_heading level0 col1\" >Glucose</th>        <th class=\"col_heading level0 col2\" >BloodPressure</th>        <th class=\"col_heading level0 col3\" >SkinThickness</th>        <th class=\"col_heading level0 col4\" >Insulin</th>        <th class=\"col_heading level0 col5\" >BMI</th>        <th class=\"col_heading level0 col6\" >DiabetesPedigreeFunction</th>        <th class=\"col_heading level0 col7\" >Age</th>        <th class=\"col_heading level0 col8\" >Outcome</th>    </tr></thead><tbody>\n",
              "                <tr>\n",
              "                        <th id=\"T_310902b6_61c7_11ec_addc_0242ac1c0002level0_row0\" class=\"row_heading level0 row0\" >Pregnancies</th>\n",
              "                        <td id=\"T_310902b6_61c7_11ec_addc_0242ac1c0002row0_col0\" class=\"data row0 col0\" >1.00</td>\n",
              "                        <td id=\"T_310902b6_61c7_11ec_addc_0242ac1c0002row0_col1\" class=\"data row0 col1\" >0.13</td>\n",
              "                        <td id=\"T_310902b6_61c7_11ec_addc_0242ac1c0002row0_col2\" class=\"data row0 col2\" >0.14</td>\n",
              "                        <td id=\"T_310902b6_61c7_11ec_addc_0242ac1c0002row0_col3\" class=\"data row0 col3\" >-0.08</td>\n",
              "                        <td id=\"T_310902b6_61c7_11ec_addc_0242ac1c0002row0_col4\" class=\"data row0 col4\" >-0.07</td>\n",
              "                        <td id=\"T_310902b6_61c7_11ec_addc_0242ac1c0002row0_col5\" class=\"data row0 col5\" >0.02</td>\n",
              "                        <td id=\"T_310902b6_61c7_11ec_addc_0242ac1c0002row0_col6\" class=\"data row0 col6\" >-0.03</td>\n",
              "                        <td id=\"T_310902b6_61c7_11ec_addc_0242ac1c0002row0_col7\" class=\"data row0 col7\" >0.54</td>\n",
              "                        <td id=\"T_310902b6_61c7_11ec_addc_0242ac1c0002row0_col8\" class=\"data row0 col8\" >0.22</td>\n",
              "            </tr>\n",
              "            <tr>\n",
              "                        <th id=\"T_310902b6_61c7_11ec_addc_0242ac1c0002level0_row1\" class=\"row_heading level0 row1\" >Glucose</th>\n",
              "                        <td id=\"T_310902b6_61c7_11ec_addc_0242ac1c0002row1_col0\" class=\"data row1 col0\" >0.13</td>\n",
              "                        <td id=\"T_310902b6_61c7_11ec_addc_0242ac1c0002row1_col1\" class=\"data row1 col1\" >1.00</td>\n",
              "                        <td id=\"T_310902b6_61c7_11ec_addc_0242ac1c0002row1_col2\" class=\"data row1 col2\" >0.15</td>\n",
              "                        <td id=\"T_310902b6_61c7_11ec_addc_0242ac1c0002row1_col3\" class=\"data row1 col3\" >0.06</td>\n",
              "                        <td id=\"T_310902b6_61c7_11ec_addc_0242ac1c0002row1_col4\" class=\"data row1 col4\" >0.33</td>\n",
              "                        <td id=\"T_310902b6_61c7_11ec_addc_0242ac1c0002row1_col5\" class=\"data row1 col5\" >0.22</td>\n",
              "                        <td id=\"T_310902b6_61c7_11ec_addc_0242ac1c0002row1_col6\" class=\"data row1 col6\" >0.14</td>\n",
              "                        <td id=\"T_310902b6_61c7_11ec_addc_0242ac1c0002row1_col7\" class=\"data row1 col7\" >0.26</td>\n",
              "                        <td id=\"T_310902b6_61c7_11ec_addc_0242ac1c0002row1_col8\" class=\"data row1 col8\" >0.47</td>\n",
              "            </tr>\n",
              "            <tr>\n",
              "                        <th id=\"T_310902b6_61c7_11ec_addc_0242ac1c0002level0_row2\" class=\"row_heading level0 row2\" >BloodPressure</th>\n",
              "                        <td id=\"T_310902b6_61c7_11ec_addc_0242ac1c0002row2_col0\" class=\"data row2 col0\" >0.14</td>\n",
              "                        <td id=\"T_310902b6_61c7_11ec_addc_0242ac1c0002row2_col1\" class=\"data row2 col1\" >0.15</td>\n",
              "                        <td id=\"T_310902b6_61c7_11ec_addc_0242ac1c0002row2_col2\" class=\"data row2 col2\" >1.00</td>\n",
              "                        <td id=\"T_310902b6_61c7_11ec_addc_0242ac1c0002row2_col3\" class=\"data row2 col3\" >0.21</td>\n",
              "                        <td id=\"T_310902b6_61c7_11ec_addc_0242ac1c0002row2_col4\" class=\"data row2 col4\" >0.09</td>\n",
              "                        <td id=\"T_310902b6_61c7_11ec_addc_0242ac1c0002row2_col5\" class=\"data row2 col5\" >0.28</td>\n",
              "                        <td id=\"T_310902b6_61c7_11ec_addc_0242ac1c0002row2_col6\" class=\"data row2 col6\" >0.04</td>\n",
              "                        <td id=\"T_310902b6_61c7_11ec_addc_0242ac1c0002row2_col7\" class=\"data row2 col7\" >0.24</td>\n",
              "                        <td id=\"T_310902b6_61c7_11ec_addc_0242ac1c0002row2_col8\" class=\"data row2 col8\" >0.07</td>\n",
              "            </tr>\n",
              "            <tr>\n",
              "                        <th id=\"T_310902b6_61c7_11ec_addc_0242ac1c0002level0_row3\" class=\"row_heading level0 row3\" >SkinThickness</th>\n",
              "                        <td id=\"T_310902b6_61c7_11ec_addc_0242ac1c0002row3_col0\" class=\"data row3 col0\" >-0.08</td>\n",
              "                        <td id=\"T_310902b6_61c7_11ec_addc_0242ac1c0002row3_col1\" class=\"data row3 col1\" >0.06</td>\n",
              "                        <td id=\"T_310902b6_61c7_11ec_addc_0242ac1c0002row3_col2\" class=\"data row3 col2\" >0.21</td>\n",
              "                        <td id=\"T_310902b6_61c7_11ec_addc_0242ac1c0002row3_col3\" class=\"data row3 col3\" >1.00</td>\n",
              "                        <td id=\"T_310902b6_61c7_11ec_addc_0242ac1c0002row3_col4\" class=\"data row3 col4\" >0.44</td>\n",
              "                        <td id=\"T_310902b6_61c7_11ec_addc_0242ac1c0002row3_col5\" class=\"data row3 col5\" >0.39</td>\n",
              "                        <td id=\"T_310902b6_61c7_11ec_addc_0242ac1c0002row3_col6\" class=\"data row3 col6\" >0.18</td>\n",
              "                        <td id=\"T_310902b6_61c7_11ec_addc_0242ac1c0002row3_col7\" class=\"data row3 col7\" >-0.11</td>\n",
              "                        <td id=\"T_310902b6_61c7_11ec_addc_0242ac1c0002row3_col8\" class=\"data row3 col8\" >0.07</td>\n",
              "            </tr>\n",
              "            <tr>\n",
              "                        <th id=\"T_310902b6_61c7_11ec_addc_0242ac1c0002level0_row4\" class=\"row_heading level0 row4\" >Insulin</th>\n",
              "                        <td id=\"T_310902b6_61c7_11ec_addc_0242ac1c0002row4_col0\" class=\"data row4 col0\" >-0.07</td>\n",
              "                        <td id=\"T_310902b6_61c7_11ec_addc_0242ac1c0002row4_col1\" class=\"data row4 col1\" >0.33</td>\n",
              "                        <td id=\"T_310902b6_61c7_11ec_addc_0242ac1c0002row4_col2\" class=\"data row4 col2\" >0.09</td>\n",
              "                        <td id=\"T_310902b6_61c7_11ec_addc_0242ac1c0002row4_col3\" class=\"data row4 col3\" >0.44</td>\n",
              "                        <td id=\"T_310902b6_61c7_11ec_addc_0242ac1c0002row4_col4\" class=\"data row4 col4\" >1.00</td>\n",
              "                        <td id=\"T_310902b6_61c7_11ec_addc_0242ac1c0002row4_col5\" class=\"data row4 col5\" >0.20</td>\n",
              "                        <td id=\"T_310902b6_61c7_11ec_addc_0242ac1c0002row4_col6\" class=\"data row4 col6\" >0.19</td>\n",
              "                        <td id=\"T_310902b6_61c7_11ec_addc_0242ac1c0002row4_col7\" class=\"data row4 col7\" >-0.04</td>\n",
              "                        <td id=\"T_310902b6_61c7_11ec_addc_0242ac1c0002row4_col8\" class=\"data row4 col8\" >0.13</td>\n",
              "            </tr>\n",
              "            <tr>\n",
              "                        <th id=\"T_310902b6_61c7_11ec_addc_0242ac1c0002level0_row5\" class=\"row_heading level0 row5\" >BMI</th>\n",
              "                        <td id=\"T_310902b6_61c7_11ec_addc_0242ac1c0002row5_col0\" class=\"data row5 col0\" >0.02</td>\n",
              "                        <td id=\"T_310902b6_61c7_11ec_addc_0242ac1c0002row5_col1\" class=\"data row5 col1\" >0.22</td>\n",
              "                        <td id=\"T_310902b6_61c7_11ec_addc_0242ac1c0002row5_col2\" class=\"data row5 col2\" >0.28</td>\n",
              "                        <td id=\"T_310902b6_61c7_11ec_addc_0242ac1c0002row5_col3\" class=\"data row5 col3\" >0.39</td>\n",
              "                        <td id=\"T_310902b6_61c7_11ec_addc_0242ac1c0002row5_col4\" class=\"data row5 col4\" >0.20</td>\n",
              "                        <td id=\"T_310902b6_61c7_11ec_addc_0242ac1c0002row5_col5\" class=\"data row5 col5\" >1.00</td>\n",
              "                        <td id=\"T_310902b6_61c7_11ec_addc_0242ac1c0002row5_col6\" class=\"data row5 col6\" >0.14</td>\n",
              "                        <td id=\"T_310902b6_61c7_11ec_addc_0242ac1c0002row5_col7\" class=\"data row5 col7\" >0.04</td>\n",
              "                        <td id=\"T_310902b6_61c7_11ec_addc_0242ac1c0002row5_col8\" class=\"data row5 col8\" >0.29</td>\n",
              "            </tr>\n",
              "            <tr>\n",
              "                        <th id=\"T_310902b6_61c7_11ec_addc_0242ac1c0002level0_row6\" class=\"row_heading level0 row6\" >DiabetesPedigreeFunction</th>\n",
              "                        <td id=\"T_310902b6_61c7_11ec_addc_0242ac1c0002row6_col0\" class=\"data row6 col0\" >-0.03</td>\n",
              "                        <td id=\"T_310902b6_61c7_11ec_addc_0242ac1c0002row6_col1\" class=\"data row6 col1\" >0.14</td>\n",
              "                        <td id=\"T_310902b6_61c7_11ec_addc_0242ac1c0002row6_col2\" class=\"data row6 col2\" >0.04</td>\n",
              "                        <td id=\"T_310902b6_61c7_11ec_addc_0242ac1c0002row6_col3\" class=\"data row6 col3\" >0.18</td>\n",
              "                        <td id=\"T_310902b6_61c7_11ec_addc_0242ac1c0002row6_col4\" class=\"data row6 col4\" >0.19</td>\n",
              "                        <td id=\"T_310902b6_61c7_11ec_addc_0242ac1c0002row6_col5\" class=\"data row6 col5\" >0.14</td>\n",
              "                        <td id=\"T_310902b6_61c7_11ec_addc_0242ac1c0002row6_col6\" class=\"data row6 col6\" >1.00</td>\n",
              "                        <td id=\"T_310902b6_61c7_11ec_addc_0242ac1c0002row6_col7\" class=\"data row6 col7\" >0.03</td>\n",
              "                        <td id=\"T_310902b6_61c7_11ec_addc_0242ac1c0002row6_col8\" class=\"data row6 col8\" >0.17</td>\n",
              "            </tr>\n",
              "            <tr>\n",
              "                        <th id=\"T_310902b6_61c7_11ec_addc_0242ac1c0002level0_row7\" class=\"row_heading level0 row7\" >Age</th>\n",
              "                        <td id=\"T_310902b6_61c7_11ec_addc_0242ac1c0002row7_col0\" class=\"data row7 col0\" >0.54</td>\n",
              "                        <td id=\"T_310902b6_61c7_11ec_addc_0242ac1c0002row7_col1\" class=\"data row7 col1\" >0.26</td>\n",
              "                        <td id=\"T_310902b6_61c7_11ec_addc_0242ac1c0002row7_col2\" class=\"data row7 col2\" >0.24</td>\n",
              "                        <td id=\"T_310902b6_61c7_11ec_addc_0242ac1c0002row7_col3\" class=\"data row7 col3\" >-0.11</td>\n",
              "                        <td id=\"T_310902b6_61c7_11ec_addc_0242ac1c0002row7_col4\" class=\"data row7 col4\" >-0.04</td>\n",
              "                        <td id=\"T_310902b6_61c7_11ec_addc_0242ac1c0002row7_col5\" class=\"data row7 col5\" >0.04</td>\n",
              "                        <td id=\"T_310902b6_61c7_11ec_addc_0242ac1c0002row7_col6\" class=\"data row7 col6\" >0.03</td>\n",
              "                        <td id=\"T_310902b6_61c7_11ec_addc_0242ac1c0002row7_col7\" class=\"data row7 col7\" >1.00</td>\n",
              "                        <td id=\"T_310902b6_61c7_11ec_addc_0242ac1c0002row7_col8\" class=\"data row7 col8\" >0.24</td>\n",
              "            </tr>\n",
              "            <tr>\n",
              "                        <th id=\"T_310902b6_61c7_11ec_addc_0242ac1c0002level0_row8\" class=\"row_heading level0 row8\" >Outcome</th>\n",
              "                        <td id=\"T_310902b6_61c7_11ec_addc_0242ac1c0002row8_col0\" class=\"data row8 col0\" >0.22</td>\n",
              "                        <td id=\"T_310902b6_61c7_11ec_addc_0242ac1c0002row8_col1\" class=\"data row8 col1\" >0.47</td>\n",
              "                        <td id=\"T_310902b6_61c7_11ec_addc_0242ac1c0002row8_col2\" class=\"data row8 col2\" >0.07</td>\n",
              "                        <td id=\"T_310902b6_61c7_11ec_addc_0242ac1c0002row8_col3\" class=\"data row8 col3\" >0.07</td>\n",
              "                        <td id=\"T_310902b6_61c7_11ec_addc_0242ac1c0002row8_col4\" class=\"data row8 col4\" >0.13</td>\n",
              "                        <td id=\"T_310902b6_61c7_11ec_addc_0242ac1c0002row8_col5\" class=\"data row8 col5\" >0.29</td>\n",
              "                        <td id=\"T_310902b6_61c7_11ec_addc_0242ac1c0002row8_col6\" class=\"data row8 col6\" >0.17</td>\n",
              "                        <td id=\"T_310902b6_61c7_11ec_addc_0242ac1c0002row8_col7\" class=\"data row8 col7\" >0.24</td>\n",
              "                        <td id=\"T_310902b6_61c7_11ec_addc_0242ac1c0002row8_col8\" class=\"data row8 col8\" >1.00</td>\n",
              "            </tr>\n",
              "    </tbody></table>"
            ],
            "text/plain": [
              "<pandas.io.formats.style.Styler at 0x7fecab937b10>"
            ]
          },
          "metadata": {},
          "execution_count": 64
        }
      ]
    },
    {
      "cell_type": "code",
      "source": [
        "klib.corr_plot(dataset)"
      ],
      "metadata": {
        "colab": {
          "base_uri": "https://localhost:8080/",
          "height": 749
        },
        "id": "lIUKF0LIJZtV",
        "outputId": "86623aa1-1a06-4a44-c9dc-c9715a31e1ff"
      },
      "execution_count": null,
      "outputs": [
        {
          "output_type": "execute_result",
          "data": {
            "text/plain": [
              "<matplotlib.axes._subplots.AxesSubplot at 0x7fecab870350>"
            ]
          },
          "metadata": {},
          "execution_count": 65
        },
        {
          "output_type": "display_data",
          "data": {
            "image/png": "[encoded data removed]",
            "text/plain": [
              "<Figure size 864x720 with 2 Axes>"
            ]
          },
          "metadata": {
            "needs_background": "light"
          }
        }
      ]
    },
    {
      "cell_type": "markdown",
      "source": [
        "Here, age feature is highly correlated with Pregnancies. Insulin is highly correlated with Glucose and SkinThickness. BMI is also correlated with SkinThickness. Features values Pregnancies, Glucose, BMI and Age are correlated with target value Outcome."
      ],
      "metadata": {
        "id": "f598bKebV3c9"
      }
    },
    {
      "cell_type": "code",
      "source": [
        "new_feature = dataset[['Pregnancies', 'Glucose', 'BMI', 'Age']]\n",
        "new_feature"
      ],
      "metadata": {
        "colab": {
          "base_uri": "https://localhost:8080/",
          "height": 424
        },
        "id": "PbvdvJ00Nb5t",
        "outputId": "eeab4e77-5402-41bc-dade-ba0b3ecd4a83"
      },
      "execution_count": null,
      "outputs": [
        {
          "output_type": "execute_result",
          "data": {
            "text/html": [
              "\n",
              "  <div id=\"df-e3ac32b4-ae11-4d9c-a0c0-cdd875da7393\">\n",
              "    <div class=\"colab-df-container\">\n",
              "      <div>\n",
              "<style scoped>\n",
              "    .dataframe tbody tr th:only-of-type {\n",
              "        vertical-align: middle;\n",
              "    }\n",
              "\n",
              "    .dataframe tbody tr th {\n",
              "        vertical-align: top;\n",
              "    }\n",
              "\n",
              "    .dataframe thead th {\n",
              "        text-align: right;\n",
              "    }\n",
              "</style>\n",
              "<table border=\"1\" class=\"dataframe\">\n",
              "  <thead>\n",
              "    <tr style=\"text-align: right;\">\n",
              "      <th></th>\n",
              "      <th>Pregnancies</th>\n",
              "      <th>Glucose</th>\n",
              "      <th>BMI</th>\n",
              "      <th>Age</th>\n",
              "    </tr>\n",
              "  </thead>\n",
              "  <tbody>\n",
              "    <tr>\n",
              "      <th>0</th>\n",
              "      <td>6</td>\n",
              "      <td>148</td>\n",
              "      <td>33.6</td>\n",
              "      <td>50</td>\n",
              "    </tr>\n",
              "    <tr>\n",
              "      <th>1</th>\n",
              "      <td>1</td>\n",
              "      <td>85</td>\n",
              "      <td>26.6</td>\n",
              "      <td>31</td>\n",
              "    </tr>\n",
              "    <tr>\n",
              "      <th>2</th>\n",
              "      <td>8</td>\n",
              "      <td>183</td>\n",
              "      <td>23.3</td>\n",
              "      <td>32</td>\n",
              "    </tr>\n",
              "    <tr>\n",
              "      <th>3</th>\n",
              "      <td>1</td>\n",
              "      <td>89</td>\n",
              "      <td>28.1</td>\n",
              "      <td>21</td>\n",
              "    </tr>\n",
              "    <tr>\n",
              "      <th>4</th>\n",
              "      <td>0</td>\n",
              "      <td>137</td>\n",
              "      <td>43.1</td>\n",
              "      <td>33</td>\n",
              "    </tr>\n",
              "    <tr>\n",
              "      <th>...</th>\n",
              "      <td>...</td>\n",
              "      <td>...</td>\n",
              "      <td>...</td>\n",
              "      <td>...</td>\n",
              "    </tr>\n",
              "    <tr>\n",
              "      <th>763</th>\n",
              "      <td>10</td>\n",
              "      <td>101</td>\n",
              "      <td>32.9</td>\n",
              "      <td>63</td>\n",
              "    </tr>\n",
              "    <tr>\n",
              "      <th>764</th>\n",
              "      <td>2</td>\n",
              "      <td>122</td>\n",
              "      <td>36.8</td>\n",
              "      <td>27</td>\n",
              "    </tr>\n",
              "    <tr>\n",
              "      <th>765</th>\n",
              "      <td>5</td>\n",
              "      <td>121</td>\n",
              "      <td>26.2</td>\n",
              "      <td>30</td>\n",
              "    </tr>\n",
              "    <tr>\n",
              "      <th>766</th>\n",
              "      <td>1</td>\n",
              "      <td>126</td>\n",
              "      <td>30.1</td>\n",
              "      <td>47</td>\n",
              "    </tr>\n",
              "    <tr>\n",
              "      <th>767</th>\n",
              "      <td>1</td>\n",
              "      <td>93</td>\n",
              "      <td>30.4</td>\n",
              "      <td>23</td>\n",
              "    </tr>\n",
              "  </tbody>\n",
              "</table>\n",
              "<p>768 rows × 4 columns</p>\n",
              "</div>\n",
              "      <button class=\"colab-df-convert\" onclick=\"convertToInteractive('df-e3ac32b4-ae11-4d9c-a0c0-cdd875da7393')\"\n",
              "              title=\"Convert this dataframe to an interactive table.\"\n",
              "              style=\"display:none;\">\n",
              "        \n",
              "  <svg xmlns=\"http://www.w3.org/2000/svg\" height=\"24px\"viewBox=\"0 0 24 24\"\n",
              "       width=\"24px\">\n",
              "    <path d=\"M0 0h24v24H0V0z\" fill=\"none\"/>\n",
              "    <path d=\"M18.56 5.44l.94 2.06.94-2.06 2.06-.94-2.06-.94-.94-2.06-.94 2.06-2.06.94zm-11 1L8.5 8.5l.94-2.06 2.06-.94-2.06-.94L8.5 2.5l-.94 2.06-2.06.94zm10 10l.94 2.06.94-2.06 2.06-.94-2.06-.94-.94-2.06-.94 2.06-2.06.94z\"/><path d=\"M17.41 7.96l-1.37-1.37c-.4-.4-.92-.59-1.43-.59-.52 0-1.04.2-1.43.59L10.3 9.45l-7.72 7.72c-.78.78-.78 2.05 0 2.83L4 21.41c.39.39.9.59 1.41.59.51 0 1.02-.2 1.41-.59l7.78-7.78 2.81-2.81c.8-.78.8-2.07 0-2.86zM5.41 20L4 18.59l7.72-7.72 1.47 1.35L5.41 20z\"/>\n",
              "  </svg>\n",
              "      </button>\n",
              "      \n",
              "  <style>\n",
              "    .colab-df-container {\n",
              "      display:flex;\n",
              "      flex-wrap:wrap;\n",
              "      gap: 12px;\n",
              "    }\n",
              "\n",
              "    .colab-df-convert {\n",
              "      background-color: #E8F0FE;\n",
              "      border: none;\n",
              "      border-radius: 50%;\n",
              "      cursor: pointer;\n",
              "      display: none;\n",
              "      fill: #1967D2;\n",
              "      height: 32px;\n",
              "      padding: 0 0 0 0;\n",
              "      width: 32px;\n",
              "    }\n",
              "\n",
              "    .colab-df-convert:hover {\n",
              "      background-color: #E2EBFA;\n",
              "      box-shadow: 0px 1px 2px rgba(60, 64, 67, 0.3), 0px 1px 3px 1px rgba(60, 64, 67, 0.15);\n",
              "      fill: #174EA6;\n",
              "    }\n",
              "\n",
              "    [theme=dark] .colab-df-convert {\n",
              "      background-color: #3B4455;\n",
              "      fill: #D2E3FC;\n",
              "    }\n",
              "\n",
              "    [theme=dark] .colab-df-convert:hover {\n",
              "      background-color: #434B5C;\n",
              "      box-shadow: 0px 1px 3px 1px rgba(0, 0, 0, 0.15);\n",
              "      filter: drop-shadow(0px 1px 2px rgba(0, 0, 0, 0.3));\n",
              "      fill: #FFFFFF;\n",
              "    }\n",
              "  </style>\n",
              "\n",
              "      <script>\n",
              "        const buttonEl =\n",
              "          document.querySelector('#df-e3ac32b4-ae11-4d9c-a0c0-cdd875da7393 button.colab-df-convert');\n",
              "        buttonEl.style.display =\n",
              "          google.colab.kernel.accessAllowed ? 'block' : 'none';\n",
              "\n",
              "        async function convertToInteractive(key) {\n",
              "          const element = document.querySelector('#df-e3ac32b4-ae11-4d9c-a0c0-cdd875da7393');\n",
              "          const dataTable =\n",
              "            await google.colab.kernel.invokeFunction('convertToInteractive',\n",
              "                                                     [key], {});\n",
              "          if (!dataTable) return;\n",
              "\n",
              "          const docLinkHtml = 'Like what you see? Visit the ' +\n",
              "            '<a target=\"_blank\" href=https://colab.research.google.com/notebooks/data_table.ipynb>data table notebook</a>'\n",
              "            + ' to learn more about interactive tables.';\n",
              "          element.innerHTML = '';\n",
              "          dataTable['output_type'] = 'display_data';\n",
              "          await google.colab.output.renderOutput(dataTable, element);\n",
              "          const docLink = document.createElement('div');\n",
              "          docLink.innerHTML = docLinkHtml;\n",
              "          element.appendChild(docLink);\n",
              "        }\n",
              "      </script>\n",
              "    </div>\n",
              "  </div>\n",
              "  "
            ],
            "text/plain": [
              "     Pregnancies  Glucose   BMI  Age\n",
              "0              6      148  33.6   50\n",
              "1              1       85  26.6   31\n",
              "2              8      183  23.3   32\n",
              "3              1       89  28.1   21\n",
              "4              0      137  43.1   33\n",
              "..           ...      ...   ...  ...\n",
              "763           10      101  32.9   63\n",
              "764            2      122  36.8   27\n",
              "765            5      121  26.2   30\n",
              "766            1      126  30.1   47\n",
              "767            1       93  30.4   23\n",
              "\n",
              "[768 rows x 4 columns]"
            ]
          },
          "metadata": {},
          "execution_count": 68
        }
      ]
    },
    {
      "cell_type": "code",
      "source": [
        "x_train,x_test,y_train,y_test=train_test_split(new_feature,target,test_size = 0.2,random_state = 0)"
      ],
      "metadata": {
        "id": "ubG6IVcSOPA2"
      },
      "execution_count": null,
      "outputs": []
    },
    {
      "cell_type": "code",
      "source": [
        "x_sc = StandardScaler()\n",
        "x_train = x_sc.fit_transform(x_train)\n",
        "x_test = x_sc.transform(x_test)"
      ],
      "metadata": {
        "id": "LcQwx3MIOYIN"
      },
      "execution_count": null,
      "outputs": []
    },
    {
      "cell_type": "code",
      "source": [
        "model = Sequential()\n",
        "model.add(Dense(10, input_dim=4, activation='relu'))\n",
        "model.add(Dense(20, activation='relu'))\n",
        "model.add(Dense(10, activation='relu'))\n",
        "model.add(Dense(1, activation='sigmoid'))"
      ],
      "metadata": {
        "id": "AYyHpk64Om3C"
      },
      "execution_count": null,
      "outputs": []
    },
    {
      "cell_type": "code",
      "source": [
        "model.compile(loss='binary_crossentropy',\n",
        "              optimizer='adam',\n",
        "              metrics=['accuracy'])\n",
        "\n",
        "history = model.fit(x_train, \n",
        "                    y_train, \n",
        "                    epochs=50, \n",
        "                    validation_split=0.1)"
      ],
      "metadata": {
        "colab": {
          "base_uri": "https://localhost:8080/"
        },
        "id": "oiOIVy6mOfXd",
        "outputId": "c434a212-c9c0-41a9-89a8-c51e1dc1d75e"
      },
      "execution_count": null,
      "outputs": [
        {
          "output_type": "stream",
          "name": "stdout",
          "text": [
            "Epoch 1/50\n",
            "18/18 [==============================] - 1s 23ms/step - loss: 0.6721 - accuracy: 0.6504 - val_loss: 0.6666 - val_accuracy: 0.6774\n",
            "Epoch 2/50\n",
            "18/18 [==============================] - 0s 6ms/step - loss: 0.6469 - accuracy: 0.7011 - val_loss: 0.6386 - val_accuracy: 0.7903\n",
            "Epoch 3/50\n",
            "18/18 [==============================] - 0s 7ms/step - loss: 0.6229 - accuracy: 0.7355 - val_loss: 0.6113 - val_accuracy: 0.8226\n",
            "Epoch 4/50\n",
            "18/18 [==============================] - 0s 6ms/step - loss: 0.6000 - accuracy: 0.7391 - val_loss: 0.5826 - val_accuracy: 0.8387\n",
            "Epoch 5/50\n",
            "18/18 [==============================] - 0s 7ms/step - loss: 0.5785 - accuracy: 0.7446 - val_loss: 0.5557 - val_accuracy: 0.8387\n",
            "Epoch 6/50\n",
            "18/18 [==============================] - 0s 6ms/step - loss: 0.5581 - accuracy: 0.7464 - val_loss: 0.5360 - val_accuracy: 0.8387\n",
            "Epoch 7/50\n",
            "18/18 [==============================] - 0s 5ms/step - loss: 0.5417 - accuracy: 0.7446 - val_loss: 0.5201 - val_accuracy: 0.8387\n",
            "Epoch 8/50\n",
            "18/18 [==============================] - 0s 5ms/step - loss: 0.5286 - accuracy: 0.7500 - val_loss: 0.5097 - val_accuracy: 0.8387\n",
            "Epoch 9/50\n",
            "18/18 [==============================] - 0s 5ms/step - loss: 0.5191 - accuracy: 0.7572 - val_loss: 0.5045 - val_accuracy: 0.8387\n",
            "Epoch 10/50\n",
            "18/18 [==============================] - 0s 5ms/step - loss: 0.5098 - accuracy: 0.7609 - val_loss: 0.4994 - val_accuracy: 0.8387\n",
            "Epoch 11/50\n",
            "18/18 [==============================] - 0s 7ms/step - loss: 0.5039 - accuracy: 0.7627 - val_loss: 0.4965 - val_accuracy: 0.8387\n",
            "Epoch 12/50\n",
            "18/18 [==============================] - 0s 6ms/step - loss: 0.4988 - accuracy: 0.7627 - val_loss: 0.4983 - val_accuracy: 0.8387\n",
            "Epoch 13/50\n",
            "18/18 [==============================] - 0s 7ms/step - loss: 0.4955 - accuracy: 0.7609 - val_loss: 0.4973 - val_accuracy: 0.8387\n",
            "Epoch 14/50\n",
            "18/18 [==============================] - 0s 7ms/step - loss: 0.4912 - accuracy: 0.7609 - val_loss: 0.4961 - val_accuracy: 0.8387\n",
            "Epoch 15/50\n",
            "18/18 [==============================] - 0s 8ms/step - loss: 0.4878 - accuracy: 0.7572 - val_loss: 0.4969 - val_accuracy: 0.8387\n",
            "Epoch 16/50\n",
            "18/18 [==============================] - 0s 7ms/step - loss: 0.4847 - accuracy: 0.7572 - val_loss: 0.5017 - val_accuracy: 0.8226\n",
            "Epoch 17/50\n",
            "18/18 [==============================] - 0s 7ms/step - loss: 0.4830 - accuracy: 0.7591 - val_loss: 0.5036 - val_accuracy: 0.8226\n",
            "Epoch 18/50\n",
            "18/18 [==============================] - 0s 6ms/step - loss: 0.4813 - accuracy: 0.7554 - val_loss: 0.5027 - val_accuracy: 0.8226\n",
            "Epoch 19/50\n",
            "18/18 [==============================] - 0s 6ms/step - loss: 0.4796 - accuracy: 0.7609 - val_loss: 0.5066 - val_accuracy: 0.8065\n",
            "Epoch 20/50\n",
            "18/18 [==============================] - 0s 5ms/step - loss: 0.4773 - accuracy: 0.7645 - val_loss: 0.5057 - val_accuracy: 0.7903\n",
            "Epoch 21/50\n",
            "18/18 [==============================] - 0s 5ms/step - loss: 0.4765 - accuracy: 0.7627 - val_loss: 0.5050 - val_accuracy: 0.8387\n",
            "Epoch 22/50\n",
            "18/18 [==============================] - 0s 6ms/step - loss: 0.4740 - accuracy: 0.7645 - val_loss: 0.5075 - val_accuracy: 0.8065\n",
            "Epoch 23/50\n",
            "18/18 [==============================] - 0s 5ms/step - loss: 0.4722 - accuracy: 0.7663 - val_loss: 0.5099 - val_accuracy: 0.8065\n",
            "Epoch 24/50\n",
            "18/18 [==============================] - 0s 8ms/step - loss: 0.4720 - accuracy: 0.7699 - val_loss: 0.5144 - val_accuracy: 0.7903\n",
            "Epoch 25/50\n",
            "18/18 [==============================] - 0s 5ms/step - loss: 0.4706 - accuracy: 0.7717 - val_loss: 0.5090 - val_accuracy: 0.7903\n",
            "Epoch 26/50\n",
            "18/18 [==============================] - 0s 5ms/step - loss: 0.4692 - accuracy: 0.7754 - val_loss: 0.5145 - val_accuracy: 0.8065\n",
            "Epoch 27/50\n",
            "18/18 [==============================] - 0s 5ms/step - loss: 0.4687 - accuracy: 0.7736 - val_loss: 0.5139 - val_accuracy: 0.8065\n",
            "Epoch 28/50\n",
            "18/18 [==============================] - 0s 4ms/step - loss: 0.4674 - accuracy: 0.7736 - val_loss: 0.5167 - val_accuracy: 0.7903\n",
            "Epoch 29/50\n",
            "18/18 [==============================] - 0s 3ms/step - loss: 0.4667 - accuracy: 0.7663 - val_loss: 0.5172 - val_accuracy: 0.7903\n",
            "Epoch 30/50\n",
            "18/18 [==============================] - 0s 3ms/step - loss: 0.4652 - accuracy: 0.7772 - val_loss: 0.5160 - val_accuracy: 0.7903\n",
            "Epoch 31/50\n",
            "18/18 [==============================] - 0s 3ms/step - loss: 0.4647 - accuracy: 0.7772 - val_loss: 0.5171 - val_accuracy: 0.7903\n",
            "Epoch 32/50\n",
            "18/18 [==============================] - 0s 4ms/step - loss: 0.4656 - accuracy: 0.7609 - val_loss: 0.5185 - val_accuracy: 0.7903\n",
            "Epoch 33/50\n",
            "18/18 [==============================] - 0s 3ms/step - loss: 0.4645 - accuracy: 0.7681 - val_loss: 0.5231 - val_accuracy: 0.7903\n",
            "Epoch 34/50\n",
            "18/18 [==============================] - 0s 5ms/step - loss: 0.4632 - accuracy: 0.7645 - val_loss: 0.5229 - val_accuracy: 0.7903\n",
            "Epoch 35/50\n",
            "18/18 [==============================] - 0s 3ms/step - loss: 0.4626 - accuracy: 0.7772 - val_loss: 0.5156 - val_accuracy: 0.7903\n",
            "Epoch 36/50\n",
            "18/18 [==============================] - 0s 4ms/step - loss: 0.4610 - accuracy: 0.7663 - val_loss: 0.5206 - val_accuracy: 0.7903\n",
            "Epoch 37/50\n",
            "18/18 [==============================] - 0s 3ms/step - loss: 0.4591 - accuracy: 0.7663 - val_loss: 0.5212 - val_accuracy: 0.7903\n",
            "Epoch 38/50\n",
            "18/18 [==============================] - 0s 4ms/step - loss: 0.4590 - accuracy: 0.7754 - val_loss: 0.5236 - val_accuracy: 0.7903\n",
            "Epoch 39/50\n",
            "18/18 [==============================] - 0s 3ms/step - loss: 0.4585 - accuracy: 0.7772 - val_loss: 0.5238 - val_accuracy: 0.7903\n",
            "Epoch 40/50\n",
            "18/18 [==============================] - 0s 3ms/step - loss: 0.4582 - accuracy: 0.7736 - val_loss: 0.5192 - val_accuracy: 0.7903\n",
            "Epoch 41/50\n",
            "18/18 [==============================] - 0s 3ms/step - loss: 0.4572 - accuracy: 0.7717 - val_loss: 0.5217 - val_accuracy: 0.7903\n",
            "Epoch 42/50\n",
            "18/18 [==============================] - 0s 3ms/step - loss: 0.4557 - accuracy: 0.7717 - val_loss: 0.5210 - val_accuracy: 0.7903\n",
            "Epoch 43/50\n",
            "18/18 [==============================] - 0s 3ms/step - loss: 0.4551 - accuracy: 0.7717 - val_loss: 0.5281 - val_accuracy: 0.7903\n",
            "Epoch 44/50\n",
            "18/18 [==============================] - 0s 4ms/step - loss: 0.4545 - accuracy: 0.7717 - val_loss: 0.5251 - val_accuracy: 0.7903\n",
            "Epoch 45/50\n",
            "18/18 [==============================] - 0s 4ms/step - loss: 0.4539 - accuracy: 0.7736 - val_loss: 0.5244 - val_accuracy: 0.7903\n",
            "Epoch 46/50\n",
            "18/18 [==============================] - 0s 3ms/step - loss: 0.4533 - accuracy: 0.7736 - val_loss: 0.5262 - val_accuracy: 0.7903\n",
            "Epoch 47/50\n",
            "18/18 [==============================] - 0s 3ms/step - loss: 0.4540 - accuracy: 0.7717 - val_loss: 0.5314 - val_accuracy: 0.7903\n",
            "Epoch 48/50\n",
            "18/18 [==============================] - 0s 3ms/step - loss: 0.4526 - accuracy: 0.7681 - val_loss: 0.5231 - val_accuracy: 0.7903\n",
            "Epoch 49/50\n",
            "18/18 [==============================] - 0s 4ms/step - loss: 0.4522 - accuracy: 0.7717 - val_loss: 0.5270 - val_accuracy: 0.7903\n",
            "Epoch 50/50\n",
            "18/18 [==============================] - 0s 3ms/step - loss: 0.4508 - accuracy: 0.7736 - val_loss: 0.5247 - val_accuracy: 0.7903\n"
          ]
        }
      ]
    },
    {
      "cell_type": "code",
      "source": [
        "history_df = pd.DataFrame(history.history)\n",
        "plt.plot(history_df['loss'], label='loss')\n",
        "plt.plot(history_df['val_loss'], label='val_loss')\n",
        "plt.xlabel('epoch')\n",
        "plt.ylabel('loss')\n",
        "plt.legend()"
      ],
      "metadata": {
        "colab": {
          "base_uri": "https://localhost:8080/",
          "height": 296
        },
        "id": "11b9A5WxOu6K",
        "outputId": "bd8a3d8f-48a9-4e90-bdab-79989cc4362f"
      },
      "execution_count": null,
      "outputs": [
        {
          "output_type": "execute_result",
          "data": {
            "text/plain": [
              "<matplotlib.legend.Legend at 0x7fecaba9e7d0>"
            ]
          },
          "metadata": {},
          "execution_count": 76
        },
        {
          "output_type": "display_data",
          "data": {
            "image/png": "[encoded data removed]",
            "text/plain": [
              "<Figure size 432x288 with 1 Axes>"
            ]
          },
          "metadata": {
            "needs_background": "light"
          }
        }
      ]
    },
    {
      "cell_type": "code",
      "source": [
        "plt.plot(history_df['accuracy'], label='acc')\n",
        "plt.plot(history_df['val_accuracy'], label='val_acc')\n",
        "plt.xlabel('epoch')\n",
        "plt.ylabel('accuracy')\n",
        "plt.legend()"
      ],
      "metadata": {
        "colab": {
          "base_uri": "https://localhost:8080/",
          "height": 296
        },
        "id": "CBo8wHmzO9RG",
        "outputId": "5dc60d7f-6deb-4c3c-983b-18f11287947a"
      },
      "execution_count": null,
      "outputs": [
        {
          "output_type": "execute_result",
          "data": {
            "text/plain": [
              "<matplotlib.legend.Legend at 0x7fecaba535d0>"
            ]
          },
          "metadata": {},
          "execution_count": 77
        },
        {
          "output_type": "display_data",
          "data": {
            "image/png": "[encoded data removed]",
            "text/plain": [
              "<Figure size 432x288 with 1 Axes>"
            ]
          },
          "metadata": {
            "needs_background": "light"
          }
        }
      ]
    },
    {
      "cell_type": "code",
      "source": [
        "from sklearn.metrics import classification_report, confusion_matrix, ConfusionMatrixDisplay\n",
        "y_pred = model.predict(x_test)\n",
        "y_pred = y_pred > 0.5\n",
        "pred = y_pred.astype('uint8')\n",
        "cm = confusion_matrix(y_test,y_pred)\n",
        "disp = ConfusionMatrixDisplay(confusion_matrix=cm)\n",
        "disp.plot()\n",
        "plt.show()\n",
        "\n",
        "print(classification_report(y_test,y_pred,target_names = ['No','Yes']))"
      ],
      "metadata": {
        "colab": {
          "base_uri": "https://localhost:8080/",
          "height": 435
        },
        "id": "253xiSBtPFbH",
        "outputId": "b77a569b-715c-434f-c6d7-2fa15b24917c"
      },
      "execution_count": null,
      "outputs": [
        {
          "output_type": "display_data",
          "data": {
            "image/png": "[encoded data removed]",
            "text/plain": [
              "<Figure size 432x288 with 2 Axes>"
            ]
          },
          "metadata": {
            "needs_background": "light"
          }
        },
        {
          "output_type": "stream",
          "name": "stdout",
          "text": [
            "              precision    recall  f1-score   support\n",
            "\n",
            "          No       0.84      0.90      0.87       107\n",
            "         Yes       0.72      0.62      0.67        47\n",
            "\n",
            "    accuracy                           0.81       154\n",
            "   macro avg       0.78      0.76      0.77       154\n",
            "weighted avg       0.81      0.81      0.81       154\n",
            "\n"
          ]
        }
      ]
    },
    {
      "cell_type": "markdown",
      "source": [
        "For no class, it gives 96 correctly prediction and 11 wrong prediction. For yes class, it gives 18 wrong prediction and 29 correct prediction."
      ],
      "metadata": {
        "id": "RLZ6h5nrT06k"
      }
    },
    {
      "cell_type": "markdown",
      "source": [
        "# **Final Result**\n",
        "\n",
        "\n",
        "> **Selecting all features:**\n",
        "\n",
        "\n",
        "\n",
        "              precision    recall  f1-score   support\n",
        "\n",
        "          No       0.84      0.86      0.85       107\n",
        "         Yes       0.67      0.64      0.65        47\n",
        "\n",
        "    accuracy                           0.79       154\n",
        "    macro avg      0.76      0.75      0.75       154\n",
        "    weighted avg   0.79      0.79      0.79       154\n",
        "\n",
        "\n",
        "\n",
        "\n",
        "> **Selecting some features:**\n",
        "\n",
        "\n",
        "              precision    recall  f1-score   support\n",
        "\n",
        "          No       0.84      0.90      0.87       107\n",
        "         Yes       0.72      0.62      0.67        47\n",
        "\n",
        "    accuracy                           0.81       154\n",
        "    macro avg      0.78      0.76      0.77       154\n",
        "    weighted avg   0.81      0.81      0.81       154"
      ],
      "metadata": {
        "id": "tCfdj_D_PPVw"
      }
    },
    {
      "cell_type": "markdown",
      "source": [
        "**Conclusion:**\n",
        "In this experiment, a neural network model is developed using keras library. The performance is observed after taking all and some of the features. The best performing result is found for some of the features. The accuracy is observed 81% in this case. "
      ],
      "metadata": {
        "id": "1l4k200HP1mn"
      }
    }
  ]
}